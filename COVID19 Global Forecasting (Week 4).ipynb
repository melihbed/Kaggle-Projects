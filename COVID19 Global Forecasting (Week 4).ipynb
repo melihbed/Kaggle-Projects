{
 "cells": [
  {
   "cell_type": "markdown",
   "id": "3274ca32",
   "metadata": {},
   "source": [
    "#### Competition Description\n",
    "The Challenge\n",
    "Kaggle is launching a companion COVID-19 forecasting challenges to help answer a subset of the NASEM/WHO questions. While the challenge involves forecasting confirmed cases and fatalities between April 15 and May 14 by region, the primary goal isn't only to produce accurate forecasts. It’s also to identify factors that appear to impact the transmission rate of COVID-19."
   ]
  },
  {
   "cell_type": "code",
   "execution_count": 1,
   "id": "2e23e170",
   "metadata": {},
   "outputs": [],
   "source": [
    "#Importing necessary libraries\n",
    "import pandas as pd\n",
    "import numpy as np\n",
    "import matplotlib.pyplot as plt\n",
    "import seaborn as sns\n",
    "import datetime as dt\n",
    "import datetime as day_of_week\n",
    "\n",
    "import warnings\n",
    "warnings.filterwarnings(\"ignore\")"
   ]
  },
  {
   "cell_type": "code",
   "execution_count": 2,
   "id": "88f82282",
   "metadata": {},
   "outputs": [],
   "source": [
    "df_train=pd.read_csv(\"train.csv\")\n",
    "df_test=pd.read_csv(\"test(1).csv\")"
   ]
  },
  {
   "cell_type": "markdown",
   "id": "d813bb8c",
   "metadata": {},
   "source": [
    "## EDA"
   ]
  },
  {
   "cell_type": "markdown",
   "id": "e873068c",
   "metadata": {},
   "source": [
    "### Data Exploration\n",
    "###### Examining the dataset to understand its structure, size, and the types of variables it contains."
   ]
  },
  {
   "cell_type": "code",
   "execution_count": 3,
   "id": "d0d2a714",
   "metadata": {},
   "outputs": [
    {
     "data": {
      "text/html": [
       "<div>\n",
       "<style scoped>\n",
       "    .dataframe tbody tr th:only-of-type {\n",
       "        vertical-align: middle;\n",
       "    }\n",
       "\n",
       "    .dataframe tbody tr th {\n",
       "        vertical-align: top;\n",
       "    }\n",
       "\n",
       "    .dataframe thead th {\n",
       "        text-align: right;\n",
       "    }\n",
       "</style>\n",
       "<table border=\"1\" class=\"dataframe\">\n",
       "  <thead>\n",
       "    <tr style=\"text-align: right;\">\n",
       "      <th></th>\n",
       "      <th>Id</th>\n",
       "      <th>Province_State</th>\n",
       "      <th>Country_Region</th>\n",
       "      <th>Date</th>\n",
       "      <th>ConfirmedCases</th>\n",
       "      <th>Fatalities</th>\n",
       "    </tr>\n",
       "  </thead>\n",
       "  <tbody>\n",
       "    <tr>\n",
       "      <th>0</th>\n",
       "      <td>1</td>\n",
       "      <td>NaN</td>\n",
       "      <td>Afghanistan</td>\n",
       "      <td>2020-01-22</td>\n",
       "      <td>0.0</td>\n",
       "      <td>0.0</td>\n",
       "    </tr>\n",
       "    <tr>\n",
       "      <th>1</th>\n",
       "      <td>2</td>\n",
       "      <td>NaN</td>\n",
       "      <td>Afghanistan</td>\n",
       "      <td>2020-01-23</td>\n",
       "      <td>0.0</td>\n",
       "      <td>0.0</td>\n",
       "    </tr>\n",
       "    <tr>\n",
       "      <th>2</th>\n",
       "      <td>3</td>\n",
       "      <td>NaN</td>\n",
       "      <td>Afghanistan</td>\n",
       "      <td>2020-01-24</td>\n",
       "      <td>0.0</td>\n",
       "      <td>0.0</td>\n",
       "    </tr>\n",
       "    <tr>\n",
       "      <th>3</th>\n",
       "      <td>4</td>\n",
       "      <td>NaN</td>\n",
       "      <td>Afghanistan</td>\n",
       "      <td>2020-01-25</td>\n",
       "      <td>0.0</td>\n",
       "      <td>0.0</td>\n",
       "    </tr>\n",
       "    <tr>\n",
       "      <th>4</th>\n",
       "      <td>5</td>\n",
       "      <td>NaN</td>\n",
       "      <td>Afghanistan</td>\n",
       "      <td>2020-01-26</td>\n",
       "      <td>0.0</td>\n",
       "      <td>0.0</td>\n",
       "    </tr>\n",
       "  </tbody>\n",
       "</table>\n",
       "</div>"
      ],
      "text/plain": [
       "   Id Province_State Country_Region        Date  ConfirmedCases  Fatalities\n",
       "0   1            NaN    Afghanistan  2020-01-22             0.0         0.0\n",
       "1   2            NaN    Afghanistan  2020-01-23             0.0         0.0\n",
       "2   3            NaN    Afghanistan  2020-01-24             0.0         0.0\n",
       "3   4            NaN    Afghanistan  2020-01-25             0.0         0.0\n",
       "4   5            NaN    Afghanistan  2020-01-26             0.0         0.0"
      ]
     },
     "execution_count": 3,
     "metadata": {},
     "output_type": "execute_result"
    }
   ],
   "source": [
    "df_train.head()"
   ]
  },
  {
   "cell_type": "code",
   "execution_count": 4,
   "id": "e155ebc7",
   "metadata": {},
   "outputs": [
    {
     "data": {
      "text/html": [
       "<div>\n",
       "<style scoped>\n",
       "    .dataframe tbody tr th:only-of-type {\n",
       "        vertical-align: middle;\n",
       "    }\n",
       "\n",
       "    .dataframe tbody tr th {\n",
       "        vertical-align: top;\n",
       "    }\n",
       "\n",
       "    .dataframe thead th {\n",
       "        text-align: right;\n",
       "    }\n",
       "</style>\n",
       "<table border=\"1\" class=\"dataframe\">\n",
       "  <thead>\n",
       "    <tr style=\"text-align: right;\">\n",
       "      <th></th>\n",
       "      <th>Id</th>\n",
       "      <th>Province_State</th>\n",
       "      <th>Country_Region</th>\n",
       "      <th>Date</th>\n",
       "      <th>ConfirmedCases</th>\n",
       "      <th>Fatalities</th>\n",
       "    </tr>\n",
       "  </thead>\n",
       "  <tbody>\n",
       "    <tr>\n",
       "      <th>35985</th>\n",
       "      <td>35986</td>\n",
       "      <td>NaN</td>\n",
       "      <td>Zimbabwe</td>\n",
       "      <td>2020-05-06</td>\n",
       "      <td>34.0</td>\n",
       "      <td>4.0</td>\n",
       "    </tr>\n",
       "    <tr>\n",
       "      <th>35986</th>\n",
       "      <td>35987</td>\n",
       "      <td>NaN</td>\n",
       "      <td>Zimbabwe</td>\n",
       "      <td>2020-05-07</td>\n",
       "      <td>34.0</td>\n",
       "      <td>4.0</td>\n",
       "    </tr>\n",
       "    <tr>\n",
       "      <th>35987</th>\n",
       "      <td>35988</td>\n",
       "      <td>NaN</td>\n",
       "      <td>Zimbabwe</td>\n",
       "      <td>2020-05-08</td>\n",
       "      <td>34.0</td>\n",
       "      <td>4.0</td>\n",
       "    </tr>\n",
       "    <tr>\n",
       "      <th>35988</th>\n",
       "      <td>35989</td>\n",
       "      <td>NaN</td>\n",
       "      <td>Zimbabwe</td>\n",
       "      <td>2020-05-09</td>\n",
       "      <td>35.0</td>\n",
       "      <td>4.0</td>\n",
       "    </tr>\n",
       "    <tr>\n",
       "      <th>35989</th>\n",
       "      <td>35990</td>\n",
       "      <td>NaN</td>\n",
       "      <td>Zimbabwe</td>\n",
       "      <td>2020-05-10</td>\n",
       "      <td>36.0</td>\n",
       "      <td>4.0</td>\n",
       "    </tr>\n",
       "    <tr>\n",
       "      <th>35990</th>\n",
       "      <td>35991</td>\n",
       "      <td>NaN</td>\n",
       "      <td>Zimbabwe</td>\n",
       "      <td>2020-05-11</td>\n",
       "      <td>36.0</td>\n",
       "      <td>4.0</td>\n",
       "    </tr>\n",
       "    <tr>\n",
       "      <th>35991</th>\n",
       "      <td>35992</td>\n",
       "      <td>NaN</td>\n",
       "      <td>Zimbabwe</td>\n",
       "      <td>2020-05-12</td>\n",
       "      <td>36.0</td>\n",
       "      <td>4.0</td>\n",
       "    </tr>\n",
       "    <tr>\n",
       "      <th>35992</th>\n",
       "      <td>35993</td>\n",
       "      <td>NaN</td>\n",
       "      <td>Zimbabwe</td>\n",
       "      <td>2020-05-13</td>\n",
       "      <td>37.0</td>\n",
       "      <td>4.0</td>\n",
       "    </tr>\n",
       "    <tr>\n",
       "      <th>35993</th>\n",
       "      <td>35994</td>\n",
       "      <td>NaN</td>\n",
       "      <td>Zimbabwe</td>\n",
       "      <td>2020-05-14</td>\n",
       "      <td>37.0</td>\n",
       "      <td>4.0</td>\n",
       "    </tr>\n",
       "    <tr>\n",
       "      <th>35994</th>\n",
       "      <td>35995</td>\n",
       "      <td>NaN</td>\n",
       "      <td>Zimbabwe</td>\n",
       "      <td>2020-05-15</td>\n",
       "      <td>42.0</td>\n",
       "      <td>4.0</td>\n",
       "    </tr>\n",
       "  </tbody>\n",
       "</table>\n",
       "</div>"
      ],
      "text/plain": [
       "          Id Province_State Country_Region        Date  ConfirmedCases  \\\n",
       "35985  35986            NaN       Zimbabwe  2020-05-06            34.0   \n",
       "35986  35987            NaN       Zimbabwe  2020-05-07            34.0   \n",
       "35987  35988            NaN       Zimbabwe  2020-05-08            34.0   \n",
       "35988  35989            NaN       Zimbabwe  2020-05-09            35.0   \n",
       "35989  35990            NaN       Zimbabwe  2020-05-10            36.0   \n",
       "35990  35991            NaN       Zimbabwe  2020-05-11            36.0   \n",
       "35991  35992            NaN       Zimbabwe  2020-05-12            36.0   \n",
       "35992  35993            NaN       Zimbabwe  2020-05-13            37.0   \n",
       "35993  35994            NaN       Zimbabwe  2020-05-14            37.0   \n",
       "35994  35995            NaN       Zimbabwe  2020-05-15            42.0   \n",
       "\n",
       "       Fatalities  \n",
       "35985         4.0  \n",
       "35986         4.0  \n",
       "35987         4.0  \n",
       "35988         4.0  \n",
       "35989         4.0  \n",
       "35990         4.0  \n",
       "35991         4.0  \n",
       "35992         4.0  \n",
       "35993         4.0  \n",
       "35994         4.0  "
      ]
     },
     "execution_count": 4,
     "metadata": {},
     "output_type": "execute_result"
    }
   ],
   "source": [
    "df_train.tail(10)"
   ]
  },
  {
   "cell_type": "code",
   "execution_count": 5,
   "id": "2279f420",
   "metadata": {
    "scrolled": true
   },
   "outputs": [
    {
     "name": "stdout",
     "output_type": "stream",
     "text": [
      "<class 'pandas.core.frame.DataFrame'>\n",
      "RangeIndex: 35995 entries, 0 to 35994\n",
      "Data columns (total 6 columns):\n",
      " #   Column          Non-Null Count  Dtype  \n",
      "---  ------          --------------  -----  \n",
      " 0   Id              35995 non-null  int64  \n",
      " 1   Province_State  15295 non-null  object \n",
      " 2   Country_Region  35995 non-null  object \n",
      " 3   Date            35995 non-null  object \n",
      " 4   ConfirmedCases  35995 non-null  float64\n",
      " 5   Fatalities      35995 non-null  float64\n",
      "dtypes: float64(2), int64(1), object(3)\n",
      "memory usage: 1.6+ MB\n"
     ]
    }
   ],
   "source": [
    "df_train.info()"
   ]
  },
  {
   "cell_type": "markdown",
   "id": "1c212d47",
   "metadata": {},
   "source": [
    "### Data Visualization"
   ]
  },
  {
   "cell_type": "markdown",
   "id": "0c392a32",
   "metadata": {},
   "source": [
    "#### GIS - Geographic Information Systems"
   ]
  },
  {
   "cell_type": "code",
   "execution_count": 6,
   "id": "784f897e",
   "metadata": {},
   "outputs": [],
   "source": [
    "import plotly.graph_objects as go\n",
    "from plotly.offline.offline import init_notebook_mode, iplot, plot"
   ]
  },
  {
   "cell_type": "code",
   "execution_count": 7,
   "id": "873205aa",
   "metadata": {},
   "outputs": [
    {
     "data": {
      "text/html": [
       "        <script type=\"text/javascript\">\n",
       "        window.PlotlyConfig = {MathJaxConfig: 'local'};\n",
       "        if (window.MathJax && window.MathJax.Hub && window.MathJax.Hub.Config) {window.MathJax.Hub.Config({SVG: {font: \"STIX-Web\"}});}\n",
       "        if (typeof require !== 'undefined') {\n",
       "        require.undef(\"plotly\");\n",
       "        requirejs.config({\n",
       "            paths: {\n",
       "                'plotly': ['https://cdn.plot.ly/plotly-2.14.0.min']\n",
       "            }\n",
       "        });\n",
       "        require(['plotly'], function(Plotly) {\n",
       "            window._Plotly = Plotly;\n",
       "        });\n",
       "        }\n",
       "        </script>\n",
       "        "
      ]
     },
     "metadata": {},
     "output_type": "display_data"
    }
   ],
   "source": [
    "init_notebook_mode(connected=True)"
   ]
  },
  {
   "cell_type": "raw",
   "id": "56ff2f43",
   "metadata": {},
   "source": [
    "data =dict(\n",
    "    type=\"choropleth\",\n",
    "    colorscale=\"Viridis\",\n",
    "    reversescale=True,\n",
    "    locations=df_train['Country_Region'],\n",
    "    locationmode='country names',\n",
    "    z = df_train['ConfirmedCases'],\n",
    "    text=df_train['Country_Region'], #mouse ile üzerine gecdinde hangi ülke oldugunu gösteriyor\n",
    "    colorbar={'title':'Worldwide Covid Cases in the 4th week'}\n",
    ")\n",
    "layout=dict(title='Worldwide Covid Cases in the 4th week',\n",
    "            geo=dict(showframe=False,projection={'type':'mercator'})\n",
    "           )\n"
   ]
  },
  {
   "cell_type": "code",
   "execution_count": 8,
   "id": "71012b71",
   "metadata": {},
   "outputs": [],
   "source": [
    "# this code lead to a crash of the program thats why we show it\n",
    "#chromomap=go.Figure(data=data,layout=layout)\n",
    "# Dataiplot(chromomap,validate=False)"
   ]
  },
  {
   "cell_type": "markdown",
   "id": "754ad863",
   "metadata": {},
   "source": [
    "<img src=\"covid_map.png\">"
   ]
  },
  {
   "cell_type": "code",
   "execution_count": 9,
   "id": "933f87c5",
   "metadata": {},
   "outputs": [
    {
     "data": {
      "image/png": "[encoded data removed]",
      "text/plain": [
       "<Figure size 1800x1008 with 1 Axes>"
      ]
     },
     "metadata": {
      "needs_background": "light"
     },
     "output_type": "display_data"
    }
   ],
   "source": [
    "plt.figure(figsize=(25,14))\n",
    "df_train.groupby(\"Country_Region\")['ConfirmedCases'].sum().sort_values(ascending=False)\n",
    "ax=sns.countplot(x=df_train['Country_Region'])\n",
    "plt.xticks(rotation=90)\n",
    "ax.bar_label(ax.containers[0])\n",
    "plt.title('Confirmed Covid Cases per Country at week 4')\n",
    "plt.ylabel('Cases');"
   ]
  },
  {
   "cell_type": "markdown",
   "id": "e96a3ac1",
   "metadata": {},
   "source": [
    "At week 4, most cases occured:\n",
    "\n",
    "1-) USA \n",
    "\n",
    "2-) China \n",
    "\n",
    "3-) Canada"
   ]
  },
  {
   "cell_type": "code",
   "execution_count": 10,
   "id": "98830f07",
   "metadata": {},
   "outputs": [
    {
     "name": "stdout",
     "output_type": "stream",
     "text": [
      "We have 184 countries in total.\n"
     ]
    }
   ],
   "source": [
    "print(\"We have {} countries in total.\".format(df_train['Country_Region'].nunique()))"
   ]
  },
  {
   "cell_type": "markdown",
   "id": "c2a26ca8",
   "metadata": {},
   "source": [
    "We've seperated date column into different columns. Then, we also name the day of the weeks so, we can easily know what day it will be."
   ]
  },
  {
   "cell_type": "code",
   "execution_count": 11,
   "id": "f7be7511",
   "metadata": {},
   "outputs": [],
   "source": [
    "df_train['Date']=pd.to_datetime(df_train['Date'])\n",
    "\n",
    "df_train['day']=df_train['Date'].dt.dayofweek\n",
    "df_train['month']=df_train['Date'].dt.month\n",
    "df_train['year']=df_train['Date'].dt.year\n",
    "\n",
    "df_train['weekday']=df_train['Date'].dt.day_name()\n",
    "df_train['month']=df_train['Date'].dt.month_name()"
   ]
  },
  {
   "cell_type": "code",
   "execution_count": 12,
   "id": "b0f5b59a",
   "metadata": {},
   "outputs": [
    {
     "data": {
      "image/png": "[encoded data removed]",
      "text/plain": [
       "<Figure size 576x576 with 1 Axes>"
      ]
     },
     "metadata": {
      "needs_background": "light"
     },
     "output_type": "display_data"
    }
   ],
   "source": [
    "plt.figure(figsize=(8,8))\n",
    "df_train.groupby(\"month\")['Fatalities'].sum().sort_values(ascending=False)\n",
    "ax=sns.countplot(x=df_train['month'])\n",
    "plt.xticks(rotation=90)\n",
    "ax.bar_label(ax.containers[0])\n",
    "plt.title('Fatalities per Month')\n",
    "plt.ylabel('Number of Fatalities');"
   ]
  },
  {
   "cell_type": "markdown",
   "id": "46efcb94",
   "metadata": {},
   "source": [
    "The most fatalities has been occured on March ==> 9703"
   ]
  },
  {
   "cell_type": "markdown",
   "id": "8cd6d396",
   "metadata": {},
   "source": [
    "### Data preprocessing\n",
    "###### Transforming the data to make it suitable for modeling. This can include normalizing, scaling, or encoding categorical variables."
   ]
  },
  {
   "cell_type": "code",
   "execution_count": 13,
   "id": "570fa1bb",
   "metadata": {},
   "outputs": [],
   "source": [
    "#Those columns are not necessary anymore that's why we delete from dataset\n",
    "df_train=df_train.drop(df_train[['Date','year']],axis=1)"
   ]
  },
  {
   "cell_type": "code",
   "execution_count": 14,
   "id": "f714b2ac",
   "metadata": {},
   "outputs": [],
   "source": [
    "#Change object values into the integer with getdummies\n",
    "df_train_dummies=pd.get_dummies(df_train,drop_first=True)"
   ]
  },
  {
   "cell_type": "code",
   "execution_count": 15,
   "id": "f21c776e",
   "metadata": {},
   "outputs": [
    {
     "data": {
      "text/plain": [
       "((35995, 329), (35995, 8))"
      ]
     },
     "execution_count": 15,
     "metadata": {},
     "output_type": "execute_result"
    }
   ],
   "source": [
    "df_train_dummies.shape,df_train.shape"
   ]
  },
  {
   "cell_type": "code",
   "execution_count": 17,
   "id": "dcd1484b",
   "metadata": {},
   "outputs": [],
   "source": [
    "#Defining x and y values, in this case our targets are confirmed cases\n",
    "x=df_train_dummies.iloc[:,3:]\n",
    "y=df_train['ConfirmedCases']"
   ]
  },
  {
   "cell_type": "markdown",
   "id": "bc651000",
   "metadata": {},
   "source": [
    "### Data modeling\n",
    "###### Creating models to make predictions or classify the data."
   ]
  },
  {
   "cell_type": "code",
   "execution_count": 18,
   "id": "6ca0fc01",
   "metadata": {},
   "outputs": [],
   "source": [
    "from sklearn.model_selection import train_test_split"
   ]
  },
  {
   "cell_type": "code",
   "execution_count": 19,
   "id": "0070eab7",
   "metadata": {},
   "outputs": [],
   "source": [
    "from sklearn.metrics import r2_score, mean_squared_error,mean_absolute_error\n",
    "from sklearn.linear_model import LinearRegression, ElasticNet, Ridge, Lasso\n",
    "from sklearn.tree import ExtraTreeRegressor\n",
    "from sklearn.ensemble import GradientBoostingRegressor\n",
    "from xgboost import XGBRegressor"
   ]
  },
  {
   "cell_type": "code",
   "execution_count": 20,
   "id": "e73ad005",
   "metadata": {},
   "outputs": [],
   "source": [
    "def algo_test(x,y):\n",
    "  \n",
    "    L = LinearRegression()\n",
    "    E = ElasticNet()\n",
    "    R = Ridge()\n",
    "    Lass = Lasso()\n",
    "    ETR=ExtraTreeRegressor()\n",
    "    GBR=GradientBoostingRegressor()\n",
    "    XGBC= XGBRegressor()\n",
    "          \n",
    "    x_train, x_test, y_train, y_test=train_test_split(x,y,test_size=0.2,random_state=13)\n",
    "    \n",
    "    algos = [L,E,R,Lass,ETR,GBR,XGBC]\n",
    "    algo_names = ['Linear','ElasticNet','Ridge','Lasso','Extra Tree','Gradient Boosting','XGradientBooting']\n",
    "    r_squared = []\n",
    "    rmse = []\n",
    "    mae = []\n",
    "        \n",
    "    result = pd.DataFrame(columns = ['R_Squared','RMSE','MAE'],index = algo_names)\n",
    "       \n",
    "    for algo in algos:\n",
    "        algo.fit(x_train,y_train)\n",
    "             \n",
    "        r_squared.append(r2_score(y_test,algo.predict(x_test)))\n",
    "        rmse.append(mean_squared_error(y_test, algo.predict(x_test))**.5)\n",
    "        mae.append(mean_absolute_error(y_test, algo.predict(x_test)))\n",
    "\n",
    "    result.R_Squared = r_squared\n",
    "    result.RMSE = rmse\n",
    "    result.MAE= mae\n",
    "    \n",
    "    return result.sort_values('R_Squared', ascending=False)"
   ]
  },
  {
   "cell_type": "code",
   "execution_count": 21,
   "id": "36f65a0c",
   "metadata": {},
   "outputs": [
    {
     "data": {
      "text/html": [
       "<div>\n",
       "<style scoped>\n",
       "    .dataframe tbody tr th:only-of-type {\n",
       "        vertical-align: middle;\n",
       "    }\n",
       "\n",
       "    .dataframe tbody tr th {\n",
       "        vertical-align: top;\n",
       "    }\n",
       "\n",
       "    .dataframe thead th {\n",
       "        text-align: right;\n",
       "    }\n",
       "</style>\n",
       "<table border=\"1\" class=\"dataframe\">\n",
       "  <thead>\n",
       "    <tr style=\"text-align: right;\">\n",
       "      <th></th>\n",
       "      <th>R_Squared</th>\n",
       "      <th>RMSE</th>\n",
       "      <th>MAE</th>\n",
       "    </tr>\n",
       "  </thead>\n",
       "  <tbody>\n",
       "    <tr>\n",
       "      <th>Extra Tree</th>\n",
       "      <td>0.893414</td>\n",
       "      <td>6500.561367</td>\n",
       "      <td>1182.505464</td>\n",
       "    </tr>\n",
       "    <tr>\n",
       "      <th>XGradientBooting</th>\n",
       "      <td>0.870826</td>\n",
       "      <td>7156.305209</td>\n",
       "      <td>2370.553533</td>\n",
       "    </tr>\n",
       "    <tr>\n",
       "      <th>Gradient Boosting</th>\n",
       "      <td>0.744328</td>\n",
       "      <td>10067.981624</td>\n",
       "      <td>3323.247579</td>\n",
       "    </tr>\n",
       "    <tr>\n",
       "      <th>Ridge</th>\n",
       "      <td>0.439031</td>\n",
       "      <td>14913.173650</td>\n",
       "      <td>5777.084998</td>\n",
       "    </tr>\n",
       "    <tr>\n",
       "      <th>Lasso</th>\n",
       "      <td>0.438997</td>\n",
       "      <td>14913.621163</td>\n",
       "      <td>5759.560447</td>\n",
       "    </tr>\n",
       "    <tr>\n",
       "      <th>Linear</th>\n",
       "      <td>0.437887</td>\n",
       "      <td>14928.373157</td>\n",
       "      <td>5815.664189</td>\n",
       "    </tr>\n",
       "    <tr>\n",
       "      <th>ElasticNet</th>\n",
       "      <td>0.024459</td>\n",
       "      <td>19666.331195</td>\n",
       "      <td>5884.240933</td>\n",
       "    </tr>\n",
       "  </tbody>\n",
       "</table>\n",
       "</div>"
      ],
      "text/plain": [
       "                   R_Squared          RMSE          MAE\n",
       "Extra Tree          0.893414   6500.561367  1182.505464\n",
       "XGradientBooting    0.870826   7156.305209  2370.553533\n",
       "Gradient Boosting   0.744328  10067.981624  3323.247579\n",
       "Ridge               0.439031  14913.173650  5777.084998\n",
       "Lasso               0.438997  14913.621163  5759.560447\n",
       "Linear              0.437887  14928.373157  5815.664189\n",
       "ElasticNet          0.024459  19666.331195  5884.240933"
      ]
     },
     "execution_count": 21,
     "metadata": {},
     "output_type": "execute_result"
    }
   ],
   "source": [
    "algo_test(x,y)"
   ]
  },
  {
   "cell_type": "code",
   "execution_count": 22,
   "id": "e4290e65",
   "metadata": {},
   "outputs": [],
   "source": [
    "x1=df_train_dummies.drop('Fatalities',axis=1)\n",
    "y1=df_train['Fatalities']"
   ]
  },
  {
   "cell_type": "code",
   "execution_count": 23,
   "id": "460c2129",
   "metadata": {},
   "outputs": [
    {
     "data": {
      "text/html": [
       "<div>\n",
       "<style scoped>\n",
       "    .dataframe tbody tr th:only-of-type {\n",
       "        vertical-align: middle;\n",
       "    }\n",
       "\n",
       "    .dataframe tbody tr th {\n",
       "        vertical-align: top;\n",
       "    }\n",
       "\n",
       "    .dataframe thead th {\n",
       "        text-align: right;\n",
       "    }\n",
       "</style>\n",
       "<table border=\"1\" class=\"dataframe\">\n",
       "  <thead>\n",
       "    <tr style=\"text-align: right;\">\n",
       "      <th></th>\n",
       "      <th>R_Squared</th>\n",
       "      <th>RMSE</th>\n",
       "      <th>MAE</th>\n",
       "    </tr>\n",
       "  </thead>\n",
       "  <tbody>\n",
       "    <tr>\n",
       "      <th>XGradientBooting</th>\n",
       "      <td>0.997603</td>\n",
       "      <td>87.839237</td>\n",
       "      <td>15.746587</td>\n",
       "    </tr>\n",
       "    <tr>\n",
       "      <th>Extra Tree</th>\n",
       "      <td>0.996165</td>\n",
       "      <td>111.094016</td>\n",
       "      <td>14.767190</td>\n",
       "    </tr>\n",
       "    <tr>\n",
       "      <th>Gradient Boosting</th>\n",
       "      <td>0.978954</td>\n",
       "      <td>260.269607</td>\n",
       "      <td>50.808133</td>\n",
       "    </tr>\n",
       "    <tr>\n",
       "      <th>Ridge</th>\n",
       "      <td>0.868996</td>\n",
       "      <td>649.347010</td>\n",
       "      <td>200.250158</td>\n",
       "    </tr>\n",
       "    <tr>\n",
       "      <th>Linear</th>\n",
       "      <td>0.868680</td>\n",
       "      <td>650.130604</td>\n",
       "      <td>198.373657</td>\n",
       "    </tr>\n",
       "    <tr>\n",
       "      <th>Lasso</th>\n",
       "      <td>0.855202</td>\n",
       "      <td>682.678164</td>\n",
       "      <td>204.368116</td>\n",
       "    </tr>\n",
       "    <tr>\n",
       "      <th>ElasticNet</th>\n",
       "      <td>0.808141</td>\n",
       "      <td>785.826367</td>\n",
       "      <td>188.388940</td>\n",
       "    </tr>\n",
       "  </tbody>\n",
       "</table>\n",
       "</div>"
      ],
      "text/plain": [
       "                   R_Squared        RMSE         MAE\n",
       "XGradientBooting    0.997603   87.839237   15.746587\n",
       "Extra Tree          0.996165  111.094016   14.767190\n",
       "Gradient Boosting   0.978954  260.269607   50.808133\n",
       "Ridge               0.868996  649.347010  200.250158\n",
       "Linear              0.868680  650.130604  198.373657\n",
       "Lasso               0.855202  682.678164  204.368116\n",
       "ElasticNet          0.808141  785.826367  188.388940"
      ]
     },
     "execution_count": 23,
     "metadata": {},
     "output_type": "execute_result"
    }
   ],
   "source": [
    "algo_test(x1,y1)"
   ]
  }
 ],
 "metadata": {
  "kernelspec": {
   "display_name": "Python 3 (ipykernel)",
   "language": "python",
   "name": "python3"
  },
  "language_info": {
   "codemirror_mode": {
    "name": "ipython",
    "version": 3
   },
   "file_extension": ".py",
   "mimetype": "text/x-python",
   "name": "python",
   "nbconvert_exporter": "python",
   "pygments_lexer": "ipython3",
   "version": "3.9.7"
  }
 },
 "nbformat": 4,
 "nbformat_minor": 5
}
