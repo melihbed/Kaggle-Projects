{
 "cells": [
  {
   "cell_type": "markdown",
   "id": "4d658514",
   "metadata": {},
   "source": [
    "#### Computation Describtion:\n",
    "This dataset contains a large number of 32 x 32 thumbnail images containing aerial photos of a columnar cactus (Neobuxbaumia tetetzo). Kaggle has resized the images from the original dataset to make them uniform in size. The file name of an image corresponds to its id.You must create a classifier capable of predicting whether an images contains a cactus.\n"
   ]
  },
  {
   "cell_type": "code",
   "execution_count": 48,
   "id": "4b1a6ded",
   "metadata": {},
   "outputs": [],
   "source": [
    "import pandas as pd\n",
    "import os,cv2\n",
    "from IPython.display import Image\n",
    "from keras.preprocessing import image\n",
    "from keras import optimizers\n",
    "from keras import layers,models\n",
    "from keras.applications.imagenet_utils import preprocess_input\n",
    "import matplotlib.pyplot as plt\n",
    "import seaborn as sns\n",
    "from keras import regularizers\n",
    "from keras.preprocessing.image import ImageDataGenerator\n",
    "from keras.applications.vgg16 import VGG16\n",
    "import numpy as np\n",
    "import numpy as np\n",
    "from tensorflow.keras.optimizers import RMSprop"
   ]
  },
  {
   "cell_type": "code",
   "execution_count": 2,
   "id": "2ee7ad96",
   "metadata": {},
   "outputs": [],
   "source": [
    "train_dir= r\"C:\\Users\\melih\\Desktop\\Data Science(Yapay Zeka)\\Kaggle 20 Projects\\Aerial Cactus Identification\\train\\train\"\n",
    "test_dir=r\"C:\\Users\\melih\\Desktop\\Data Science(Yapay Zeka)\\Kaggle 20 Projects\\Aerial Cactus Identification\\test\"\n",
    "train=pd.read_csv('train.csv')\n",
    "\n",
    "df_test=pd.read_csv('sample_submission.csv')"
   ]
  },
  {
   "cell_type": "markdown",
   "id": "627df25c",
   "metadata": {},
   "source": [
    "## EDA\n",
    "### Data exploration\n",
    "Examining the dataset to understand its structure, size, and the types of variables it contains."
   ]
  },
  {
   "cell_type": "code",
   "execution_count": 3,
   "id": "56a69f1b",
   "metadata": {},
   "outputs": [],
   "source": [
    "train.head(5)\n",
    "train.has_cactus=train.has_cactus.astype(str)"
   ]
  },
  {
   "cell_type": "code",
   "execution_count": 4,
   "id": "d4d04a0a",
   "metadata": {},
   "outputs": [
    {
     "name": "stdout",
     "output_type": "stream",
     "text": [
      "out dataset has 17500 rows and 2 columns\n"
     ]
    }
   ],
   "source": [
    "print('out dataset has {} rows and {} columns'.format(train.shape[0],train.shape[1]))"
   ]
  },
  {
   "cell_type": "markdown",
   "id": "0ebef6c3",
   "metadata": {},
   "source": [
    "### Data Visualization\n",
    "Creating visual representations of the data to help identify patterns, trends, and outliers."
   ]
  },
  {
   "cell_type": "code",
   "execution_count": 5,
   "id": "2e850c3e",
   "metadata": {},
   "outputs": [
    {
     "name": "stderr",
     "output_type": "stream",
     "text": [
      "C:\\Users\\melih\\anaconda3\\lib\\site-packages\\seaborn\\_decorators.py:36: FutureWarning: Pass the following variable as a keyword arg: x. From version 0.12, the only valid positional argument will be `data`, and passing other arguments without an explicit keyword will result in an error or misinterpretation.\n",
      "  warnings.warn(\n"
     ]
    },
    {
     "data": {
      "text/plain": [
       "1    13136\n",
       "0     4364\n",
       "Name: has_cactus, dtype: int64"
      ]
     },
     "execution_count": 5,
     "metadata": {},
     "output_type": "execute_result"
    },
    {
     "data": {
      "image/png": "[encoded data removed]",
      "text/plain": [
       "<Figure size 432x288 with 1 Axes>"
      ]
     },
     "metadata": {
      "needs_background": "light"
     },
     "output_type": "display_data"
    }
   ],
   "source": [
    "sns.countplot(train['has_cactus'])\n",
    "train['has_cactus'].value_counts()"
   ]
  },
  {
   "cell_type": "code",
   "execution_count": 6,
   "id": "2f887530",
   "metadata": {},
   "outputs": [
    {
     "name": "stdout",
     "output_type": "stream",
     "text": [
      "The number of rows in test set is 4000\n"
     ]
    }
   ],
   "source": [
    "print(\"The number of rows in test set is %d\"%(len(os.listdir(r\"C:\\Users\\melih\\Desktop\\Data Science(Yapay Zeka)\\Kaggle 20 Projects\\Aerial Cactus Identification\\test\"))))"
   ]
  },
  {
   "cell_type": "markdown",
   "id": "221fa78f",
   "metadata": {},
   "source": [
    "We dislayed an image here:"
   ]
  },
  {
   "cell_type": "code",
   "execution_count": 7,
   "id": "a3d42a0a",
   "metadata": {},
   "outputs": [
    {
     "data": {
      "image/jpeg": "[encoded data removed]",
      "text/plain": [
       "<IPython.core.display.Image object>"
      ]
     },
     "execution_count": 7,
     "metadata": {
      "image/jpeg": {
       "height": 250,
       "width": 250
      }
     },
     "output_type": "execute_result"
    }
   ],
   "source": [
    "Image(os.path.join(r\"C:\\Users\\melih\\Desktop\\Data Science(Yapay Zeka)\\Kaggle 20 Projects\\Aerial Cactus Identification\\train\\train\",train.iloc[0,0]),width=250,height=250)"
   ]
  },
  {
   "cell_type": "markdown",
   "id": "e81017af",
   "metadata": {},
   "source": [
    "### Data Preparation"
   ]
  },
  {
   "cell_type": "markdown",
   "id": "49d23a90",
   "metadata": {},
   "source": [
    "1-Read the picture files\n",
    "\n",
    "2-Decode JPEG content to RGB pixels\n",
    "\n",
    "3-Convert this into floating tensors\n",
    "\n",
    "4-Rescale pixel values (between 0 to 255) to [0,1] interval."
   ]
  },
  {
   "cell_type": "code",
   "execution_count": 8,
   "id": "46945f9f",
   "metadata": {},
   "outputs": [],
   "source": [
    "datagen=ImageDataGenerator(rescale=1./255)\n",
    "batch_size=150"
   ]
  },
  {
   "cell_type": "code",
   "execution_count": 9,
   "id": "fb6bf305",
   "metadata": {},
   "outputs": [
    {
     "name": "stdout",
     "output_type": "stream",
     "text": [
      "Found 5236 validated image filenames belonging to 2 classes.\n"
     ]
    },
    {
     "name": "stderr",
     "output_type": "stream",
     "text": [
      "C:\\Users\\melih\\anaconda3\\lib\\site-packages\\keras\\preprocessing\\image.py:1139: UserWarning: Found 9765 invalid image filename(s) in x_col=\"id\". These filename(s) will be ignored.\n",
      "  warnings.warn(\n"
     ]
    },
    {
     "name": "stdout",
     "output_type": "stream",
     "text": [
      "Found 834 validated image filenames belonging to 2 classes.\n"
     ]
    },
    {
     "name": "stderr",
     "output_type": "stream",
     "text": [
      "C:\\Users\\melih\\anaconda3\\lib\\site-packages\\keras\\preprocessing\\image.py:1139: UserWarning: Found 1666 invalid image filename(s) in x_col=\"id\". These filename(s) will be ignored.\n",
      "  warnings.warn(\n"
     ]
    }
   ],
   "source": [
    "\n",
    "\n",
    "train_generator=datagen.flow_from_dataframe(dataframe=train[:15001],directory=train_dir,x_col='id',\n",
    "                                            y_col='has_cactus',class_mode='binary',batch_size=batch_size,\n",
    "                                            target_size=(150,150))\n",
    "\n",
    "\n",
    "validation_generator=datagen.flow_from_dataframe(dataframe=train[15000:],directory=train_dir,x_col='id',\n",
    "                                                y_col='has_cactus',class_mode='binary',batch_size=50,\n",
    "                                                target_size=(150,150))\n",
    "\n"
   ]
  },
  {
   "cell_type": "markdown",
   "id": "6d498d0f",
   "metadata": {},
   "source": [
    "### Data Modeling \n",
    "Creating models to make predictions or classify the data."
   ]
  },
  {
   "cell_type": "code",
   "execution_count": 10,
   "id": "e67d9fa3",
   "metadata": {},
   "outputs": [],
   "source": [
    "model=models.Sequential()\n",
    "model.add(layers.Conv2D(32,(3,3),activation='relu',input_shape=(150,150,3)))\n",
    "model.add(layers.MaxPool2D((2,2)))\n",
    "model.add(layers.Conv2D(64,(3,3),activation='relu',input_shape=(150,150,3)))\n",
    "model.add(layers.MaxPool2D((2,2)))\n",
    "model.add(layers.Conv2D(128,(3,3),activation='relu',input_shape=(150,150,3)))\n",
    "model.add(layers.MaxPool2D((2,2)))\n",
    "model.add(layers.Conv2D(128,(3,3),activation='relu',input_shape=(150,150,3)))\n",
    "model.add(layers.MaxPool2D((2,2)))\n",
    "model.add(layers.Flatten())\n",
    "model.add(layers.Dense(512,activation='relu'))\n",
    "model.add(layers.Dense(1,activation='sigmoid'))"
   ]
  },
  {
   "cell_type": "code",
   "execution_count": 11,
   "id": "b1dd0461",
   "metadata": {},
   "outputs": [
    {
     "name": "stdout",
     "output_type": "stream",
     "text": [
      "Model: \"sequential\"\n",
      "_________________________________________________________________\n",
      " Layer (type)                Output Shape              Param #   \n",
      "=================================================================\n",
      " conv2d (Conv2D)             (None, 148, 148, 32)      896       \n",
      "                                                                 \n",
      " max_pooling2d (MaxPooling2D  (None, 74, 74, 32)       0         \n",
      " )                                                               \n",
      "                                                                 \n",
      " conv2d_1 (Conv2D)           (None, 72, 72, 64)        18496     \n",
      "                                                                 \n",
      " max_pooling2d_1 (MaxPooling  (None, 36, 36, 64)       0         \n",
      " 2D)                                                             \n",
      "                                                                 \n",
      " conv2d_2 (Conv2D)           (None, 34, 34, 128)       73856     \n",
      "                                                                 \n",
      " max_pooling2d_2 (MaxPooling  (None, 17, 17, 128)      0         \n",
      " 2D)                                                             \n",
      "                                                                 \n",
      " conv2d_3 (Conv2D)           (None, 15, 15, 128)       147584    \n",
      "                                                                 \n",
      " max_pooling2d_3 (MaxPooling  (None, 7, 7, 128)        0         \n",
      " 2D)                                                             \n",
      "                                                                 \n",
      " flatten (Flatten)           (None, 6272)              0         \n",
      "                                                                 \n",
      " dense (Dense)               (None, 512)               3211776   \n",
      "                                                                 \n",
      " dense_1 (Dense)             (None, 1)                 513       \n",
      "                                                                 \n",
      "=================================================================\n",
      "Total params: 3,453,121\n",
      "Trainable params: 3,453,121\n",
      "Non-trainable params: 0\n",
      "_________________________________________________________________\n"
     ]
    }
   ],
   "source": [
    "model.summary()"
   ]
  },
  {
   "cell_type": "code",
   "execution_count": 12,
   "id": "2e72132d",
   "metadata": {},
   "outputs": [],
   "source": [
    "model.compile(loss='binary_crossentropy',optimizer=optimizers.RMSprop(),metrics=['acc'])"
   ]
  },
  {
   "cell_type": "code",
   "execution_count": 13,
   "id": "f0bd98cf",
   "metadata": {},
   "outputs": [],
   "source": [
    "from tensorflow.keras.callbacks import EarlyStopping, ModelCheckpoint\n",
    "\n",
    "callbacks = [EarlyStopping(monitor='val_loss', patience=25),\n",
    "             ModelCheckpoint(filepath='best_model.h5', monitor='val_loss', save_best_only=True)]\n"
   ]
  },
  {
   "cell_type": "code",
   "execution_count": 16,
   "id": "bfa6a9be",
   "metadata": {},
   "outputs": [
    {
     "name": "stderr",
     "output_type": "stream",
     "text": [
      "C:\\Users\\melih\\AppData\\Local\\Temp/ipykernel_7580/1047244098.py:2: UserWarning: `Model.fit_generator` is deprecated and will be removed in a future version. Please use `Model.fit`, which supports generators.\n",
      "  history = model.fit_generator(train_generator,\n"
     ]
    },
    {
     "name": "stdout",
     "output_type": "stream",
     "text": [
      "Epoch 1/10\n",
      "35/35 [==============================] - 155s 4s/step - loss: 0.5182 - acc: 0.7578 - val_loss: 0.3020 - val_acc: 0.7818\n",
      "Epoch 2/10\n",
      "35/35 [==============================] - 151s 4s/step - loss: 0.3584 - acc: 0.8407 - val_loss: 0.2727 - val_acc: 0.9077\n",
      "Epoch 3/10\n",
      "35/35 [==============================] - 174s 5s/step - loss: 0.3127 - acc: 0.8795 - val_loss: 0.3969 - val_acc: 0.7602\n",
      "Epoch 4/10\n",
      "35/35 [==============================] - 165s 5s/step - loss: 0.2196 - acc: 0.9078 - val_loss: 0.1435 - val_acc: 0.9388\n",
      "Epoch 5/10\n",
      "35/35 [==============================] - 168s 5s/step - loss: 0.2401 - acc: 0.9066 - val_loss: 0.1323 - val_acc: 0.9484\n",
      "Epoch 6/10\n",
      "35/35 [==============================] - 168s 5s/step - loss: 0.1864 - acc: 0.9251 - val_loss: 0.1541 - val_acc: 0.9388\n",
      "Epoch 7/10\n",
      "35/35 [==============================] - 141s 4s/step - loss: 0.1373 - acc: 0.9433 - val_loss: 0.0951 - val_acc: 0.9592\n",
      "Epoch 8/10\n",
      "35/35 [==============================] - 93s 3s/step - loss: 0.1437 - acc: 0.9452 - val_loss: 0.0890 - val_acc: 0.9640\n",
      "Epoch 9/10\n",
      "35/35 [==============================] - 88s 3s/step - loss: 0.1109 - acc: 0.9551 - val_loss: 0.0865 - val_acc: 0.9652\n",
      "Epoch 10/10\n",
      "35/35 [==============================] - 85s 2s/step - loss: 0.1203 - acc: 0.9456 - val_loss: 0.0887 - val_acc: 0.9664\n"
     ]
    }
   ],
   "source": [
    "epochs = 10\n",
    "history = model.fit_generator(train_generator,\n",
    "          validation_data=validation_generator,\n",
    "          epochs=epochs,\n",
    "          verbose=1,\n",
    "          shuffle=True,\n",
    "          callbacks=callbacks)\n"
   ]
  },
  {
   "cell_type": "code",
   "execution_count": 17,
   "id": "3ab5ec64",
   "metadata": {},
   "outputs": [
    {
     "data": {
      "image/png": "[encoded data removed]",
      "text/plain": [
       "<Figure size 432x288 with 1 Axes>"
      ]
     },
     "metadata": {
      "needs_background": "light"
     },
     "output_type": "display_data"
    }
   ],
   "source": [
    "plt.plot(history.history['loss'])\n",
    "plt.plot(history.history['val_loss'])\n",
    "plt.show()"
   ]
  },
  {
   "cell_type": "code",
   "execution_count": 18,
   "id": "5deb70a2",
   "metadata": {},
   "outputs": [],
   "source": [
    "model.load_weights(\"best_model.h5\")"
   ]
  }
 ],
 "metadata": {
  "kernelspec": {
   "display_name": "Python 3 (ipykernel)",
   "language": "python",
   "name": "python3"
  },
  "language_info": {
   "codemirror_mode": {
    "name": "ipython",
    "version": 3
   },
   "file_extension": ".py",
   "mimetype": "text/x-python",
   "name": "python",
   "nbconvert_exporter": "python",
   "pygments_lexer": "ipython3",
   "version": "3.9.7"
  }
 },
 "nbformat": 4,
 "nbformat_minor": 5
}
