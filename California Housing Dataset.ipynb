{
 "cells": [
  {
   "cell_type": "markdown",
   "id": "a4104304",
   "metadata": {},
   "source": [
    "# Tabular Regression with the California Housing Dataset"
   ]
  },
  {
   "cell_type": "markdown",
   "id": "329aad10",
   "metadata": {},
   "source": [
    "#### Computation Describtion:\n",
    "The dataset for this competition (both train and test) was generated from a deep learning model trained on the California Housing Dataset. Feature distributions are close to, but not exactly the same, as the original. Feel free to use the original dataset as part of this competition, both to explore differences as well as to see whether incorporating the original in training improves model performance.\n",
    "\n",
    "######Files\n",
    "train.csv - the training dataset; MedHouseVal is the target\n",
    "test.csv - the test dataset; your objective is to predict MedHouseVal\n",
    "sample_submission.csv - a sample submission file in the correct format"
   ]
  },
  {
   "cell_type": "code",
   "execution_count": 1,
   "id": "3ef1047b",
   "metadata": {},
   "outputs": [],
   "source": [
    "import pandas as pd\n",
    "import matplotlib.pyplot as plt\n",
    "import numpy as np\n",
    "import seaborn as sns"
   ]
  },
  {
   "cell_type": "code",
   "execution_count": 2,
   "id": "f8c270c9",
   "metadata": {},
   "outputs": [],
   "source": [
    "train = pd.read_csv('train.csv')\n",
    "test = pd.read_csv('test.csv')"
   ]
  },
  {
   "cell_type": "code",
   "execution_count": 3,
   "id": "d23d9e08",
   "metadata": {},
   "outputs": [],
   "source": [
    "df = train.append(test)"
   ]
  },
  {
   "cell_type": "markdown",
   "id": "4cee8041",
   "metadata": {},
   "source": [
    "## EDA\n",
    "### Data exploration\n",
    "Examining the dataset to understand its structure, size, and the types of variables it contains."
   ]
  },
  {
   "cell_type": "code",
   "execution_count": 4,
   "id": "a5b03176",
   "metadata": {},
   "outputs": [
    {
     "name": "stdout",
     "output_type": "stream",
     "text": [
      "<class 'pandas.core.frame.DataFrame'>\n",
      "Int64Index: 61896 entries, 0 to 24758\n",
      "Data columns (total 10 columns):\n",
      " #   Column       Non-Null Count  Dtype  \n",
      "---  ------       --------------  -----  \n",
      " 0   id           61896 non-null  int64  \n",
      " 1   MedInc       61896 non-null  float64\n",
      " 2   HouseAge     61896 non-null  float64\n",
      " 3   AveRooms     61896 non-null  float64\n",
      " 4   AveBedrms    61896 non-null  float64\n",
      " 5   Population   61896 non-null  float64\n",
      " 6   AveOccup     61896 non-null  float64\n",
      " 7   Latitude     61896 non-null  float64\n",
      " 8   Longitude    61896 non-null  float64\n",
      " 9   MedHouseVal  37137 non-null  float64\n",
      "dtypes: float64(9), int64(1)\n",
      "memory usage: 5.2 MB\n"
     ]
    }
   ],
   "source": [
    "df.info()"
   ]
  },
  {
   "cell_type": "code",
   "execution_count": 5,
   "id": "aa66193a",
   "metadata": {},
   "outputs": [
    {
     "data": {
      "text/plain": [
       "id                 0\n",
       "MedInc             0\n",
       "HouseAge           0\n",
       "AveRooms           0\n",
       "AveBedrms          0\n",
       "Population         0\n",
       "AveOccup           0\n",
       "Latitude           0\n",
       "Longitude          0\n",
       "MedHouseVal    24759\n",
       "dtype: int64"
      ]
     },
     "execution_count": 5,
     "metadata": {},
     "output_type": "execute_result"
    }
   ],
   "source": [
    "df.isnull().sum()"
   ]
  },
  {
   "cell_type": "code",
   "execution_count": 6,
   "id": "14ccf852",
   "metadata": {},
   "outputs": [
    {
     "data": {
      "text/html": [
       "<div>\n",
       "<style scoped>\n",
       "    .dataframe tbody tr th:only-of-type {\n",
       "        vertical-align: middle;\n",
       "    }\n",
       "\n",
       "    .dataframe tbody tr th {\n",
       "        vertical-align: top;\n",
       "    }\n",
       "\n",
       "    .dataframe thead th {\n",
       "        text-align: right;\n",
       "    }\n",
       "</style>\n",
       "<table border=\"1\" class=\"dataframe\">\n",
       "  <thead>\n",
       "    <tr style=\"text-align: right;\">\n",
       "      <th></th>\n",
       "      <th>id</th>\n",
       "      <th>MedInc</th>\n",
       "      <th>HouseAge</th>\n",
       "      <th>AveRooms</th>\n",
       "      <th>AveBedrms</th>\n",
       "      <th>Population</th>\n",
       "      <th>AveOccup</th>\n",
       "      <th>Latitude</th>\n",
       "      <th>Longitude</th>\n",
       "      <th>MedHouseVal</th>\n",
       "    </tr>\n",
       "  </thead>\n",
       "  <tbody>\n",
       "    <tr>\n",
       "      <th>0</th>\n",
       "      <td>0</td>\n",
       "      <td>2.3859</td>\n",
       "      <td>15.0</td>\n",
       "      <td>3.827160</td>\n",
       "      <td>1.112100</td>\n",
       "      <td>1280.0</td>\n",
       "      <td>2.486989</td>\n",
       "      <td>34.60</td>\n",
       "      <td>-120.12</td>\n",
       "      <td>0.980</td>\n",
       "    </tr>\n",
       "    <tr>\n",
       "      <th>1</th>\n",
       "      <td>1</td>\n",
       "      <td>3.7188</td>\n",
       "      <td>17.0</td>\n",
       "      <td>6.013373</td>\n",
       "      <td>1.054217</td>\n",
       "      <td>1504.0</td>\n",
       "      <td>3.813084</td>\n",
       "      <td>38.69</td>\n",
       "      <td>-121.22</td>\n",
       "      <td>0.946</td>\n",
       "    </tr>\n",
       "    <tr>\n",
       "      <th>2</th>\n",
       "      <td>2</td>\n",
       "      <td>4.7750</td>\n",
       "      <td>27.0</td>\n",
       "      <td>6.535604</td>\n",
       "      <td>1.103175</td>\n",
       "      <td>1061.0</td>\n",
       "      <td>2.464602</td>\n",
       "      <td>34.71</td>\n",
       "      <td>-120.45</td>\n",
       "      <td>1.576</td>\n",
       "    </tr>\n",
       "    <tr>\n",
       "      <th>3</th>\n",
       "      <td>3</td>\n",
       "      <td>2.4138</td>\n",
       "      <td>16.0</td>\n",
       "      <td>3.350203</td>\n",
       "      <td>0.965432</td>\n",
       "      <td>1255.0</td>\n",
       "      <td>2.089286</td>\n",
       "      <td>32.66</td>\n",
       "      <td>-117.09</td>\n",
       "      <td>1.336</td>\n",
       "    </tr>\n",
       "    <tr>\n",
       "      <th>4</th>\n",
       "      <td>4</td>\n",
       "      <td>3.7500</td>\n",
       "      <td>52.0</td>\n",
       "      <td>4.284404</td>\n",
       "      <td>1.069246</td>\n",
       "      <td>1793.0</td>\n",
       "      <td>1.604790</td>\n",
       "      <td>37.80</td>\n",
       "      <td>-122.41</td>\n",
       "      <td>4.500</td>\n",
       "    </tr>\n",
       "  </tbody>\n",
       "</table>\n",
       "</div>"
      ],
      "text/plain": [
       "   id  MedInc  HouseAge  AveRooms  AveBedrms  Population  AveOccup  Latitude  \\\n",
       "0   0  2.3859      15.0  3.827160   1.112100      1280.0  2.486989     34.60   \n",
       "1   1  3.7188      17.0  6.013373   1.054217      1504.0  3.813084     38.69   \n",
       "2   2  4.7750      27.0  6.535604   1.103175      1061.0  2.464602     34.71   \n",
       "3   3  2.4138      16.0  3.350203   0.965432      1255.0  2.089286     32.66   \n",
       "4   4  3.7500      52.0  4.284404   1.069246      1793.0  1.604790     37.80   \n",
       "\n",
       "   Longitude  MedHouseVal  \n",
       "0    -120.12        0.980  \n",
       "1    -121.22        0.946  \n",
       "2    -120.45        1.576  \n",
       "3    -117.09        1.336  \n",
       "4    -122.41        4.500  "
      ]
     },
     "execution_count": 6,
     "metadata": {},
     "output_type": "execute_result"
    }
   ],
   "source": [
    "df.head()"
   ]
  },
  {
   "cell_type": "code",
   "execution_count": 7,
   "id": "7d16d19a",
   "metadata": {},
   "outputs": [
    {
     "data": {
      "text/html": [
       "<div>\n",
       "<style scoped>\n",
       "    .dataframe tbody tr th:only-of-type {\n",
       "        vertical-align: middle;\n",
       "    }\n",
       "\n",
       "    .dataframe tbody tr th {\n",
       "        vertical-align: top;\n",
       "    }\n",
       "\n",
       "    .dataframe thead th {\n",
       "        text-align: right;\n",
       "    }\n",
       "</style>\n",
       "<table border=\"1\" class=\"dataframe\">\n",
       "  <thead>\n",
       "    <tr style=\"text-align: right;\">\n",
       "      <th></th>\n",
       "      <th>id</th>\n",
       "      <th>MedInc</th>\n",
       "      <th>HouseAge</th>\n",
       "      <th>AveRooms</th>\n",
       "      <th>AveBedrms</th>\n",
       "      <th>Population</th>\n",
       "      <th>AveOccup</th>\n",
       "      <th>Latitude</th>\n",
       "      <th>Longitude</th>\n",
       "      <th>MedHouseVal</th>\n",
       "    </tr>\n",
       "  </thead>\n",
       "  <tbody>\n",
       "    <tr>\n",
       "      <th>count</th>\n",
       "      <td>61896.000000</td>\n",
       "      <td>61896.000000</td>\n",
       "      <td>61896.000000</td>\n",
       "      <td>61896.000000</td>\n",
       "      <td>61896.000000</td>\n",
       "      <td>61896.00000</td>\n",
       "      <td>61896.000000</td>\n",
       "      <td>61896.000000</td>\n",
       "      <td>61896.000000</td>\n",
       "      <td>37137.000000</td>\n",
       "    </tr>\n",
       "    <tr>\n",
       "      <th>mean</th>\n",
       "      <td>30947.500000</td>\n",
       "      <td>3.843665</td>\n",
       "      <td>26.050827</td>\n",
       "      <td>5.165390</td>\n",
       "      <td>1.062762</td>\n",
       "      <td>1668.19855</td>\n",
       "      <td>2.831069</td>\n",
       "      <td>35.581221</td>\n",
       "      <td>-119.560681</td>\n",
       "      <td>2.079751</td>\n",
       "    </tr>\n",
       "    <tr>\n",
       "      <th>std</th>\n",
       "      <td>17867.980468</td>\n",
       "      <td>1.800912</td>\n",
       "      <td>12.166003</td>\n",
       "      <td>1.225101</td>\n",
       "      <td>0.108167</td>\n",
       "      <td>1328.10227</td>\n",
       "      <td>2.329250</td>\n",
       "      <td>2.089062</td>\n",
       "      <td>1.975297</td>\n",
       "      <td>1.158571</td>\n",
       "    </tr>\n",
       "    <tr>\n",
       "      <th>min</th>\n",
       "      <td>0.000000</td>\n",
       "      <td>0.499900</td>\n",
       "      <td>2.000000</td>\n",
       "      <td>0.851064</td>\n",
       "      <td>0.500000</td>\n",
       "      <td>3.00000</td>\n",
       "      <td>0.764706</td>\n",
       "      <td>32.550000</td>\n",
       "      <td>-124.350000</td>\n",
       "      <td>0.149990</td>\n",
       "    </tr>\n",
       "    <tr>\n",
       "      <th>25%</th>\n",
       "      <td>15473.750000</td>\n",
       "      <td>2.600000</td>\n",
       "      <td>17.000000</td>\n",
       "      <td>4.357006</td>\n",
       "      <td>1.020408</td>\n",
       "      <td>954.00000</td>\n",
       "      <td>2.395973</td>\n",
       "      <td>33.930000</td>\n",
       "      <td>-121.800000</td>\n",
       "      <td>1.208000</td>\n",
       "    </tr>\n",
       "    <tr>\n",
       "      <th>50%</th>\n",
       "      <td>30947.500000</td>\n",
       "      <td>3.511400</td>\n",
       "      <td>25.000000</td>\n",
       "      <td>5.072508</td>\n",
       "      <td>1.054348</td>\n",
       "      <td>1390.00000</td>\n",
       "      <td>2.747433</td>\n",
       "      <td>34.200000</td>\n",
       "      <td>-118.450000</td>\n",
       "      <td>1.808000</td>\n",
       "    </tr>\n",
       "    <tr>\n",
       "      <th>75%</th>\n",
       "      <td>46421.250000</td>\n",
       "      <td>4.695475</td>\n",
       "      <td>35.000000</td>\n",
       "      <td>5.858622</td>\n",
       "      <td>1.088565</td>\n",
       "      <td>1861.00000</td>\n",
       "      <td>3.127451</td>\n",
       "      <td>37.710000</td>\n",
       "      <td>-118.020000</td>\n",
       "      <td>2.660000</td>\n",
       "    </tr>\n",
       "    <tr>\n",
       "      <th>max</th>\n",
       "      <td>61895.000000</td>\n",
       "      <td>15.000100</td>\n",
       "      <td>52.000000</td>\n",
       "      <td>56.269231</td>\n",
       "      <td>10.500000</td>\n",
       "      <td>35682.00000</td>\n",
       "      <td>502.990610</td>\n",
       "      <td>41.950000</td>\n",
       "      <td>-114.550000</td>\n",
       "      <td>5.000010</td>\n",
       "    </tr>\n",
       "  </tbody>\n",
       "</table>\n",
       "</div>"
      ],
      "text/plain": [
       "                 id        MedInc      HouseAge      AveRooms     AveBedrms  \\\n",
       "count  61896.000000  61896.000000  61896.000000  61896.000000  61896.000000   \n",
       "mean   30947.500000      3.843665     26.050827      5.165390      1.062762   \n",
       "std    17867.980468      1.800912     12.166003      1.225101      0.108167   \n",
       "min        0.000000      0.499900      2.000000      0.851064      0.500000   \n",
       "25%    15473.750000      2.600000     17.000000      4.357006      1.020408   \n",
       "50%    30947.500000      3.511400     25.000000      5.072508      1.054348   \n",
       "75%    46421.250000      4.695475     35.000000      5.858622      1.088565   \n",
       "max    61895.000000     15.000100     52.000000     56.269231     10.500000   \n",
       "\n",
       "        Population      AveOccup      Latitude     Longitude   MedHouseVal  \n",
       "count  61896.00000  61896.000000  61896.000000  61896.000000  37137.000000  \n",
       "mean    1668.19855      2.831069     35.581221   -119.560681      2.079751  \n",
       "std     1328.10227      2.329250      2.089062      1.975297      1.158571  \n",
       "min        3.00000      0.764706     32.550000   -124.350000      0.149990  \n",
       "25%      954.00000      2.395973     33.930000   -121.800000      1.208000  \n",
       "50%     1390.00000      2.747433     34.200000   -118.450000      1.808000  \n",
       "75%     1861.00000      3.127451     37.710000   -118.020000      2.660000  \n",
       "max    35682.00000    502.990610     41.950000   -114.550000      5.000010  "
      ]
     },
     "execution_count": 7,
     "metadata": {},
     "output_type": "execute_result"
    }
   ],
   "source": [
    "df.describe()"
   ]
  },
  {
   "cell_type": "markdown",
   "id": "71df19a3",
   "metadata": {},
   "source": [
    "### Data Visualization\n",
    "Creating visual representations of the data to help identify patterns, trends, and outliers."
   ]
  },
  {
   "cell_type": "code",
   "execution_count": 8,
   "id": "1b055ccc",
   "metadata": {},
   "outputs": [
    {
     "data": {
      "text/plain": [
       "<AxesSubplot:xlabel='AveBedrms'>"
      ]
     },
     "execution_count": 8,
     "metadata": {},
     "output_type": "execute_result"
    },
    {
     "data": {
      "image/png": "[encoded data removed]",
      "text/plain": [
       "<Figure size 432x288 with 1 Axes>"
      ]
     },
     "metadata": {
      "needs_background": "light"
     },
     "output_type": "display_data"
    }
   ],
   "source": [
    "sns.boxenplot(x=df['AveBedrms'])\n",
    "# in this graph it is visible that 10 Bedroms are outliers "
   ]
  },
  {
   "cell_type": "code",
   "execution_count": 9,
   "id": "acda37b0",
   "metadata": {},
   "outputs": [
    {
     "data": {
      "text/plain": [
       "<AxesSubplot:xlabel='AveRooms'>"
      ]
     },
     "execution_count": 9,
     "metadata": {},
     "output_type": "execute_result"
    },
    {
     "data": {
      "image/png": "[encoded data removed]",
      "text/plain": [
       "<Figure size 432x288 with 1 Axes>"
      ]
     },
     "metadata": {
      "needs_background": "light"
     },
     "output_type": "display_data"
    }
   ],
   "source": [
    "sns.boxenplot(x=df['AveRooms'])\n",
    "# in this graph it is visible that 60 average Rooms are outliers "
   ]
  },
  {
   "cell_type": "code",
   "execution_count": 10,
   "id": "7d893be0",
   "metadata": {},
   "outputs": [
    {
     "data": {
      "text/plain": [
       "<AxesSubplot:xlabel='MedInc'>"
      ]
     },
     "execution_count": 10,
     "metadata": {},
     "output_type": "execute_result"
    },
    {
     "data": {
      "image/png": "[encoded data removed]",
      "text/plain": [
       "<Figure size 432x288 with 1 Axes>"
      ]
     },
     "metadata": {
      "needs_background": "light"
     },
     "output_type": "display_data"
    }
   ],
   "source": [
    "sns.boxenplot(x=df['MedInc'])"
   ]
  },
  {
   "cell_type": "code",
   "execution_count": 11,
   "id": "b4c712d7",
   "metadata": {},
   "outputs": [
    {
     "data": {
      "text/plain": [
       "<AxesSubplot:xlabel='HouseAge'>"
      ]
     },
     "execution_count": 11,
     "metadata": {},
     "output_type": "execute_result"
    },
    {
     "data": {
      "image/png": "[encoded data removed]",
      "text/plain": [
       "<Figure size 432x288 with 1 Axes>"
      ]
     },
     "metadata": {
      "needs_background": "light"
     },
     "output_type": "display_data"
    }
   ],
   "source": [
    "sns.boxenplot(x=df['HouseAge'])\n",
    "# the average House Age is 25"
   ]
  },
  {
   "cell_type": "markdown",
   "id": "7620885f",
   "metadata": {},
   "source": [
    "## Data Adjustments"
   ]
  },
  {
   "cell_type": "code",
   "execution_count": 12,
   "id": "114cdb2d",
   "metadata": {},
   "outputs": [],
   "source": [
    "df = df[df['AveRooms']< 30]"
   ]
  },
  {
   "cell_type": "code",
   "execution_count": 13,
   "id": "ef139698",
   "metadata": {},
   "outputs": [],
   "source": [
    "df = df[df['AveBedrms']< 6]"
   ]
  },
  {
   "cell_type": "code",
   "execution_count": 14,
   "id": "a61134d3",
   "metadata": {},
   "outputs": [],
   "source": [
    "#df['MedInc'] = df['MedInc']**2 "
   ]
  },
  {
   "cell_type": "code",
   "execution_count": 15,
   "id": "ca7bcdf4",
   "metadata": {},
   "outputs": [
    {
     "data": {
      "text/plain": [
       "0        15\n",
       "1        17\n",
       "2        27\n",
       "3        16\n",
       "4        52\n",
       "         ..\n",
       "24754    34\n",
       "24755    33\n",
       "24756    14\n",
       "24757     8\n",
       "24758    30\n",
       "Name: HouseAge, Length: 61895, dtype: int32"
      ]
     },
     "execution_count": 15,
     "metadata": {},
     "output_type": "execute_result"
    }
   ],
   "source": [
    "df['HouseAge'].astype(int)"
   ]
  },
  {
   "cell_type": "code",
   "execution_count": 16,
   "id": "92a160c1",
   "metadata": {},
   "outputs": [
    {
     "data": {
      "text/plain": [
       "MedHouseVal    1.000000\n",
       "MedInc         0.701925\n",
       "AveRooms       0.366727\n",
       "HouseAge       0.103210\n",
       "id             0.001358\n",
       "Population     0.038479\n",
       "AveOccup       0.048475\n",
       "Longitude      0.056742\n",
       "AveBedrms      0.067487\n",
       "Latitude       0.116499\n",
       "Name: MedHouseVal, dtype: float64"
      ]
     },
     "execution_count": 16,
     "metadata": {},
     "output_type": "execute_result"
    }
   ],
   "source": [
    "abs(df.corr()['MedHouseVal'].sort_values(ascending=False))"
   ]
  },
  {
   "cell_type": "markdown",
   "id": "f60253a3",
   "metadata": {},
   "source": [
    "### Data preprocessing\n",
    "Transforming the data to make it suitable for modeling. This can include normalizing, scaling, or encoding categorical variables."
   ]
  },
  {
   "cell_type": "code",
   "execution_count": 17,
   "id": "3cac0c64",
   "metadata": {},
   "outputs": [],
   "source": [
    "df_train = df.iloc[:37137]\n",
    "df_test = df.iloc[37137:]"
   ]
  },
  {
   "cell_type": "code",
   "execution_count": 18,
   "id": "77acb741",
   "metadata": {},
   "outputs": [],
   "source": [
    "x = df_train.drop(['MedHouseVal'],axis=1)\n",
    "y = df_train['MedHouseVal']"
   ]
  },
  {
   "cell_type": "code",
   "execution_count": 19,
   "id": "66f0cc1b",
   "metadata": {},
   "outputs": [],
   "source": [
    "from sklearn.metrics import r2_score, mean_squared_error,mean_absolute_error\n",
    "from sklearn.linear_model import LinearRegression, ElasticNet, Ridge, Lasso\n",
    "from sklearn.tree import ExtraTreeRegressor\n",
    "from sklearn.ensemble import GradientBoostingRegressor\n",
    "from xgboost import XGBRegressor\n",
    "from sklearn.ensemble import RandomForestRegressor\n",
    "from sklearn.model_selection import train_test_split"
   ]
  },
  {
   "cell_type": "code",
   "execution_count": 20,
   "id": "c058912a",
   "metadata": {},
   "outputs": [],
   "source": [
    "def algo_test(x,y):\n",
    "  \n",
    "    L = LinearRegression()\n",
    "    E = ElasticNet()\n",
    "    R = Ridge()\n",
    "    Lass = Lasso()\n",
    "    ETR=ExtraTreeRegressor()\n",
    "    GBR=GradientBoostingRegressor()\n",
    "    XGBC= XGBRegressor()\n",
    "          \n",
    "    x_train, x_test, y_train, y_test=train_test_split(x,y,test_size=0.2,random_state=13)\n",
    "    \n",
    "    algos = [L,E,R,Lass,ETR,GBR,XGBC]\n",
    "    algo_names = ['Linear','ElasticNet','Ridge','Lasso','Extra Tree','Gradient Boosting','XGradientBooting']\n",
    "    r_squared = []\n",
    "    rmse = []\n",
    "    mae = []\n",
    "        \n",
    "    result = pd.DataFrame(columns = ['R_Squared','RMSE','MAE'],index = algo_names)\n",
    "       \n",
    "    for algo in algos:\n",
    "        algo.fit(x_train,y_train)\n",
    "             \n",
    "        r_squared.append(r2_score(y_test,algo.predict(x_test)))\n",
    "        rmse.append(mean_squared_error(y_test, algo.predict(x_test))**.5)\n",
    "        mae.append(mean_absolute_error(y_test, algo.predict(x_test)))\n",
    "\n",
    "    result.R_Squared = r_squared\n",
    "    result.RMSE = rmse\n",
    "    result.MAE= mae\n",
    "    \n",
    "    return result.sort_values('R_Squared', ascending=False)"
   ]
  },
  {
   "cell_type": "markdown",
   "id": "519f404a",
   "metadata": {},
   "source": [
    "### Data Modeling \n",
    "Creating models to make predictions or classify the data."
   ]
  },
  {
   "cell_type": "code",
   "execution_count": 21,
   "id": "11369ef5",
   "metadata": {},
   "outputs": [
    {
     "data": {
      "text/html": [
       "<div>\n",
       "<style scoped>\n",
       "    .dataframe tbody tr th:only-of-type {\n",
       "        vertical-align: middle;\n",
       "    }\n",
       "\n",
       "    .dataframe tbody tr th {\n",
       "        vertical-align: top;\n",
       "    }\n",
       "\n",
       "    .dataframe thead th {\n",
       "        text-align: right;\n",
       "    }\n",
       "</style>\n",
       "<table border=\"1\" class=\"dataframe\">\n",
       "  <thead>\n",
       "    <tr style=\"text-align: right;\">\n",
       "      <th></th>\n",
       "      <th>R_Squared</th>\n",
       "      <th>RMSE</th>\n",
       "      <th>MAE</th>\n",
       "    </tr>\n",
       "  </thead>\n",
       "  <tbody>\n",
       "    <tr>\n",
       "      <th>XGradientBooting</th>\n",
       "      <td>0.746899</td>\n",
       "      <td>0.583465</td>\n",
       "      <td>0.417701</td>\n",
       "    </tr>\n",
       "    <tr>\n",
       "      <th>Gradient Boosting</th>\n",
       "      <td>0.733111</td>\n",
       "      <td>0.599147</td>\n",
       "      <td>0.433645</td>\n",
       "    </tr>\n",
       "    <tr>\n",
       "      <th>Linear</th>\n",
       "      <td>0.600128</td>\n",
       "      <td>0.733379</td>\n",
       "      <td>0.540136</td>\n",
       "    </tr>\n",
       "    <tr>\n",
       "      <th>Ridge</th>\n",
       "      <td>0.600121</td>\n",
       "      <td>0.733386</td>\n",
       "      <td>0.540141</td>\n",
       "    </tr>\n",
       "    <tr>\n",
       "      <th>ElasticNet</th>\n",
       "      <td>0.418765</td>\n",
       "      <td>0.884187</td>\n",
       "      <td>0.685509</td>\n",
       "    </tr>\n",
       "    <tr>\n",
       "      <th>Extra Tree</th>\n",
       "      <td>0.403721</td>\n",
       "      <td>0.895556</td>\n",
       "      <td>0.627097</td>\n",
       "    </tr>\n",
       "    <tr>\n",
       "      <th>Lasso</th>\n",
       "      <td>0.274265</td>\n",
       "      <td>0.988000</td>\n",
       "      <td>0.776855</td>\n",
       "    </tr>\n",
       "  </tbody>\n",
       "</table>\n",
       "</div>"
      ],
      "text/plain": [
       "                   R_Squared      RMSE       MAE\n",
       "XGradientBooting    0.746899  0.583465  0.417701\n",
       "Gradient Boosting   0.733111  0.599147  0.433645\n",
       "Linear              0.600128  0.733379  0.540136\n",
       "Ridge               0.600121  0.733386  0.540141\n",
       "ElasticNet          0.418765  0.884187  0.685509\n",
       "Extra Tree          0.403721  0.895556  0.627097\n",
       "Lasso               0.274265  0.988000  0.776855"
      ]
     },
     "execution_count": 21,
     "metadata": {},
     "output_type": "execute_result"
    }
   ],
   "source": [
    "algo_test(x,y)"
   ]
  }
 ],
 "metadata": {
  "kernelspec": {
   "display_name": "Python 3 (ipykernel)",
   "language": "python",
   "name": "python3"
  },
  "language_info": {
   "codemirror_mode": {
    "name": "ipython",
    "version": 3
   },
   "file_extension": ".py",
   "mimetype": "text/x-python",
   "name": "python",
   "nbconvert_exporter": "python",
   "pygments_lexer": "ipython3",
   "version": "3.9.7"
  }
 },
 "nbformat": 4,
 "nbformat_minor": 5
}
