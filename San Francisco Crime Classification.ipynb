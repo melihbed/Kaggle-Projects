{
 "cells": [
  {
   "cell_type": "markdown",
   "id": "e34d2927",
   "metadata": {},
   "source": [
    "## Predict the category of crimes that occurred in the city by the bay"
   ]
  },
  {
   "cell_type": "markdown",
   "id": "33e00520",
   "metadata": {},
   "source": [
    "#### Computation Describtion:\n",
    "This dataset contains incidents derived from SFPD Crime Incident Reporting system. The data ranges from 1/1/2003 to 5/13/2015. The training set and test set rotate every week, meaning week 1,3,5,7... belong to test set, week 2,4,6,8 belong to training set. "
   ]
  },
  {
   "cell_type": "code",
   "execution_count": 37,
   "id": "fc903b52",
   "metadata": {},
   "outputs": [],
   "source": [
    "import pandas as pd\n",
    "import matplotlib.pyplot as plt\n",
    "import seaborn as sns\n",
    "import numpy as np\n",
    "\n",
    "from sklearn.tree import DecisionTreeClassifier\n",
    "from sklearn.neighbors import KNeighborsClassifier\n",
    "from sklearn.metrics import accuracy_score\n",
    "from sklearn.ensemble import RandomForestClassifier\n",
    "from sklearn.tree import DecisionTreeClassifier\n",
    "from xgboost import XGBClassifier"
   ]
  },
  {
   "cell_type": "code",
   "execution_count": 2,
   "id": "fdd0fe11",
   "metadata": {},
   "outputs": [],
   "source": [
    "df = pd.read_csv('train.csv')\n",
    "test = pd.read_csv('test.csv')"
   ]
  },
  {
   "cell_type": "markdown",
   "id": "cea819ce",
   "metadata": {},
   "source": [
    "## EDA\n",
    "### Data exploration\n",
    "Examining the dataset to understand its structure, size, and the types of variables it contains."
   ]
  },
  {
   "cell_type": "code",
   "execution_count": 3,
   "id": "3e7936b3",
   "metadata": {},
   "outputs": [
    {
     "data": {
      "text/html": [
       "<div>\n",
       "<style scoped>\n",
       "    .dataframe tbody tr th:only-of-type {\n",
       "        vertical-align: middle;\n",
       "    }\n",
       "\n",
       "    .dataframe tbody tr th {\n",
       "        vertical-align: top;\n",
       "    }\n",
       "\n",
       "    .dataframe thead th {\n",
       "        text-align: right;\n",
       "    }\n",
       "</style>\n",
       "<table border=\"1\" class=\"dataframe\">\n",
       "  <thead>\n",
       "    <tr style=\"text-align: right;\">\n",
       "      <th></th>\n",
       "      <th>Dates</th>\n",
       "      <th>Category</th>\n",
       "      <th>Descript</th>\n",
       "      <th>DayOfWeek</th>\n",
       "      <th>PdDistrict</th>\n",
       "      <th>Resolution</th>\n",
       "      <th>Address</th>\n",
       "      <th>X</th>\n",
       "      <th>Y</th>\n",
       "    </tr>\n",
       "  </thead>\n",
       "  <tbody>\n",
       "    <tr>\n",
       "      <th>0</th>\n",
       "      <td>2015-05-13 23:53:00</td>\n",
       "      <td>WARRANTS</td>\n",
       "      <td>WARRANT ARREST</td>\n",
       "      <td>Wednesday</td>\n",
       "      <td>NORTHERN</td>\n",
       "      <td>ARREST, BOOKED</td>\n",
       "      <td>OAK ST / LAGUNA ST</td>\n",
       "      <td>-122.425892</td>\n",
       "      <td>37.774599</td>\n",
       "    </tr>\n",
       "    <tr>\n",
       "      <th>1</th>\n",
       "      <td>2015-05-13 23:53:00</td>\n",
       "      <td>OTHER OFFENSES</td>\n",
       "      <td>TRAFFIC VIOLATION ARREST</td>\n",
       "      <td>Wednesday</td>\n",
       "      <td>NORTHERN</td>\n",
       "      <td>ARREST, BOOKED</td>\n",
       "      <td>OAK ST / LAGUNA ST</td>\n",
       "      <td>-122.425892</td>\n",
       "      <td>37.774599</td>\n",
       "    </tr>\n",
       "    <tr>\n",
       "      <th>2</th>\n",
       "      <td>2015-05-13 23:33:00</td>\n",
       "      <td>OTHER OFFENSES</td>\n",
       "      <td>TRAFFIC VIOLATION ARREST</td>\n",
       "      <td>Wednesday</td>\n",
       "      <td>NORTHERN</td>\n",
       "      <td>ARREST, BOOKED</td>\n",
       "      <td>VANNESS AV / GREENWICH ST</td>\n",
       "      <td>-122.424363</td>\n",
       "      <td>37.800414</td>\n",
       "    </tr>\n",
       "    <tr>\n",
       "      <th>3</th>\n",
       "      <td>2015-05-13 23:30:00</td>\n",
       "      <td>LARCENY/THEFT</td>\n",
       "      <td>GRAND THEFT FROM LOCKED AUTO</td>\n",
       "      <td>Wednesday</td>\n",
       "      <td>NORTHERN</td>\n",
       "      <td>NONE</td>\n",
       "      <td>1500 Block of LOMBARD ST</td>\n",
       "      <td>-122.426995</td>\n",
       "      <td>37.800873</td>\n",
       "    </tr>\n",
       "    <tr>\n",
       "      <th>4</th>\n",
       "      <td>2015-05-13 23:30:00</td>\n",
       "      <td>LARCENY/THEFT</td>\n",
       "      <td>GRAND THEFT FROM LOCKED AUTO</td>\n",
       "      <td>Wednesday</td>\n",
       "      <td>PARK</td>\n",
       "      <td>NONE</td>\n",
       "      <td>100 Block of BRODERICK ST</td>\n",
       "      <td>-122.438738</td>\n",
       "      <td>37.771541</td>\n",
       "    </tr>\n",
       "  </tbody>\n",
       "</table>\n",
       "</div>"
      ],
      "text/plain": [
       "                 Dates        Category                      Descript  \\\n",
       "0  2015-05-13 23:53:00        WARRANTS                WARRANT ARREST   \n",
       "1  2015-05-13 23:53:00  OTHER OFFENSES      TRAFFIC VIOLATION ARREST   \n",
       "2  2015-05-13 23:33:00  OTHER OFFENSES      TRAFFIC VIOLATION ARREST   \n",
       "3  2015-05-13 23:30:00   LARCENY/THEFT  GRAND THEFT FROM LOCKED AUTO   \n",
       "4  2015-05-13 23:30:00   LARCENY/THEFT  GRAND THEFT FROM LOCKED AUTO   \n",
       "\n",
       "   DayOfWeek PdDistrict      Resolution                    Address  \\\n",
       "0  Wednesday   NORTHERN  ARREST, BOOKED         OAK ST / LAGUNA ST   \n",
       "1  Wednesday   NORTHERN  ARREST, BOOKED         OAK ST / LAGUNA ST   \n",
       "2  Wednesday   NORTHERN  ARREST, BOOKED  VANNESS AV / GREENWICH ST   \n",
       "3  Wednesday   NORTHERN            NONE   1500 Block of LOMBARD ST   \n",
       "4  Wednesday       PARK            NONE  100 Block of BRODERICK ST   \n",
       "\n",
       "            X          Y  \n",
       "0 -122.425892  37.774599  \n",
       "1 -122.425892  37.774599  \n",
       "2 -122.424363  37.800414  \n",
       "3 -122.426995  37.800873  \n",
       "4 -122.438738  37.771541  "
      ]
     },
     "execution_count": 3,
     "metadata": {},
     "output_type": "execute_result"
    }
   ],
   "source": [
    "df.head()"
   ]
  },
  {
   "cell_type": "code",
   "execution_count": 4,
   "id": "7bdeea26",
   "metadata": {},
   "outputs": [
    {
     "data": {
      "text/html": [
       "<div>\n",
       "<style scoped>\n",
       "    .dataframe tbody tr th:only-of-type {\n",
       "        vertical-align: middle;\n",
       "    }\n",
       "\n",
       "    .dataframe tbody tr th {\n",
       "        vertical-align: top;\n",
       "    }\n",
       "\n",
       "    .dataframe thead th {\n",
       "        text-align: right;\n",
       "    }\n",
       "</style>\n",
       "<table border=\"1\" class=\"dataframe\">\n",
       "  <thead>\n",
       "    <tr style=\"text-align: right;\">\n",
       "      <th></th>\n",
       "      <th>Id</th>\n",
       "      <th>Dates</th>\n",
       "      <th>DayOfWeek</th>\n",
       "      <th>PdDistrict</th>\n",
       "      <th>Address</th>\n",
       "      <th>X</th>\n",
       "      <th>Y</th>\n",
       "    </tr>\n",
       "  </thead>\n",
       "  <tbody>\n",
       "    <tr>\n",
       "      <th>0</th>\n",
       "      <td>0</td>\n",
       "      <td>2015-05-10 23:59:00</td>\n",
       "      <td>Sunday</td>\n",
       "      <td>BAYVIEW</td>\n",
       "      <td>2000 Block of THOMAS AV</td>\n",
       "      <td>-122.399588</td>\n",
       "      <td>37.735051</td>\n",
       "    </tr>\n",
       "    <tr>\n",
       "      <th>1</th>\n",
       "      <td>1</td>\n",
       "      <td>2015-05-10 23:51:00</td>\n",
       "      <td>Sunday</td>\n",
       "      <td>BAYVIEW</td>\n",
       "      <td>3RD ST / REVERE AV</td>\n",
       "      <td>-122.391523</td>\n",
       "      <td>37.732432</td>\n",
       "    </tr>\n",
       "    <tr>\n",
       "      <th>2</th>\n",
       "      <td>2</td>\n",
       "      <td>2015-05-10 23:50:00</td>\n",
       "      <td>Sunday</td>\n",
       "      <td>NORTHERN</td>\n",
       "      <td>2000 Block of GOUGH ST</td>\n",
       "      <td>-122.426002</td>\n",
       "      <td>37.792212</td>\n",
       "    </tr>\n",
       "    <tr>\n",
       "      <th>3</th>\n",
       "      <td>3</td>\n",
       "      <td>2015-05-10 23:45:00</td>\n",
       "      <td>Sunday</td>\n",
       "      <td>INGLESIDE</td>\n",
       "      <td>4700 Block of MISSION ST</td>\n",
       "      <td>-122.437394</td>\n",
       "      <td>37.721412</td>\n",
       "    </tr>\n",
       "    <tr>\n",
       "      <th>4</th>\n",
       "      <td>4</td>\n",
       "      <td>2015-05-10 23:45:00</td>\n",
       "      <td>Sunday</td>\n",
       "      <td>INGLESIDE</td>\n",
       "      <td>4700 Block of MISSION ST</td>\n",
       "      <td>-122.437394</td>\n",
       "      <td>37.721412</td>\n",
       "    </tr>\n",
       "  </tbody>\n",
       "</table>\n",
       "</div>"
      ],
      "text/plain": [
       "   Id                Dates DayOfWeek PdDistrict                   Address  \\\n",
       "0   0  2015-05-10 23:59:00    Sunday    BAYVIEW   2000 Block of THOMAS AV   \n",
       "1   1  2015-05-10 23:51:00    Sunday    BAYVIEW        3RD ST / REVERE AV   \n",
       "2   2  2015-05-10 23:50:00    Sunday   NORTHERN    2000 Block of GOUGH ST   \n",
       "3   3  2015-05-10 23:45:00    Sunday  INGLESIDE  4700 Block of MISSION ST   \n",
       "4   4  2015-05-10 23:45:00    Sunday  INGLESIDE  4700 Block of MISSION ST   \n",
       "\n",
       "            X          Y  \n",
       "0 -122.399588  37.735051  \n",
       "1 -122.391523  37.732432  \n",
       "2 -122.426002  37.792212  \n",
       "3 -122.437394  37.721412  \n",
       "4 -122.437394  37.721412  "
      ]
     },
     "execution_count": 4,
     "metadata": {},
     "output_type": "execute_result"
    }
   ],
   "source": [
    "test.head()"
   ]
  },
  {
   "cell_type": "markdown",
   "id": "984c2e2f",
   "metadata": {},
   "source": [
    "### Data Visualization\n",
    "Creating visual representations of the data to help identify patterns, trends, and outliers."
   ]
  },
  {
   "cell_type": "code",
   "execution_count": 8,
   "id": "d14743be",
   "metadata": {},
   "outputs": [
    {
     "data": {
      "image/png": "[encoded data removed]",
      "text/plain": [
       "<Figure size 1080x576 with 1 Axes>"
      ]
     },
     "metadata": {
      "needs_background": "light"
     },
     "output_type": "display_data"
    }
   ],
   "source": [
    "plt.figure(figsize=(15,8))\n",
    "sns.countplot(x = df['Category'])\n",
    "plt.xticks(rotation=90);\n",
    "# Most of the arrasting are because of Larceny/Theft"
   ]
  },
  {
   "cell_type": "code",
   "execution_count": 10,
   "id": "2a766b74",
   "metadata": {},
   "outputs": [
    {
     "data": {
      "image/png": "[encoded data removed]",
      "text/plain": [
       "<Figure size 1080x576 with 1 Axes>"
      ]
     },
     "metadata": {
      "needs_background": "light"
     },
     "output_type": "display_data"
    }
   ],
   "source": [
    "plt.figure(figsize=(15,8))\n",
    "sns.countplot(x = df['Resolution'])\n",
    "plt.xticks(rotation=90);"
   ]
  },
  {
   "cell_type": "code",
   "execution_count": 12,
   "id": "37e5e656",
   "metadata": {},
   "outputs": [
    {
     "data": {
      "text/plain": [
       "Category         object\n",
       "Descript         object\n",
       "PdDistrict       object\n",
       "Resolution       object\n",
       "Address          object\n",
       "X               float64\n",
       "Y               float64\n",
       "year              int64\n",
       "month             int64\n",
       "day_of_month      int64\n",
       "day_of_week       int64\n",
       "hour              int64\n",
       "dtype: object"
      ]
     },
     "execution_count": 12,
     "metadata": {},
     "output_type": "execute_result"
    }
   ],
   "source": [
    "df['Dates'] = pd.to_datetime(df['Dates'])\n",
    "\n",
    "df['year'] = df['Dates'].dt.year\n",
    "df['month'] = df['Dates'].dt.month\n",
    "df['day_of_month'] = df['Dates'].dt.day\n",
    "df['day_of_week'] = df['Dates'].dt.day_of_week\n",
    "df['hour'] = df['Dates'].dt.hour\n",
    "df.drop(['Dates', 'DayOfWeek'], axis = 1, inplace = True)\n",
    "df.dtypes"
   ]
  },
  {
   "cell_type": "code",
   "execution_count": 13,
   "id": "8fc82f59",
   "metadata": {},
   "outputs": [],
   "source": [
    "df.columns = [item.lower() for item in df.columns]"
   ]
  },
  {
   "cell_type": "code",
   "execution_count": 14,
   "id": "9058e367",
   "metadata": {},
   "outputs": [
    {
     "data": {
      "text/html": [
       "<div>\n",
       "<style scoped>\n",
       "    .dataframe tbody tr th:only-of-type {\n",
       "        vertical-align: middle;\n",
       "    }\n",
       "\n",
       "    .dataframe tbody tr th {\n",
       "        vertical-align: top;\n",
       "    }\n",
       "\n",
       "    .dataframe thead th {\n",
       "        text-align: right;\n",
       "    }\n",
       "</style>\n",
       "<table border=\"1\" class=\"dataframe\">\n",
       "  <thead>\n",
       "    <tr style=\"text-align: right;\">\n",
       "      <th>category</th>\n",
       "      <th>ARSON</th>\n",
       "      <th>ASSAULT</th>\n",
       "      <th>BAD CHECKS</th>\n",
       "      <th>BRIBERY</th>\n",
       "      <th>BURGLARY</th>\n",
       "      <th>DISORDERLY CONDUCT</th>\n",
       "      <th>DRIVING UNDER THE INFLUENCE</th>\n",
       "      <th>DRUG/NARCOTIC</th>\n",
       "      <th>DRUNKENNESS</th>\n",
       "      <th>EMBEZZLEMENT</th>\n",
       "      <th>...</th>\n",
       "      <th>SEX OFFENSES NON FORCIBLE</th>\n",
       "      <th>STOLEN PROPERTY</th>\n",
       "      <th>SUICIDE</th>\n",
       "      <th>SUSPICIOUS OCC</th>\n",
       "      <th>TREA</th>\n",
       "      <th>TRESPASS</th>\n",
       "      <th>VANDALISM</th>\n",
       "      <th>VEHICLE THEFT</th>\n",
       "      <th>WARRANTS</th>\n",
       "      <th>WEAPON LAWS</th>\n",
       "    </tr>\n",
       "    <tr>\n",
       "      <th>day_of_week</th>\n",
       "      <th></th>\n",
       "      <th></th>\n",
       "      <th></th>\n",
       "      <th></th>\n",
       "      <th></th>\n",
       "      <th></th>\n",
       "      <th></th>\n",
       "      <th></th>\n",
       "      <th></th>\n",
       "      <th></th>\n",
       "      <th></th>\n",
       "      <th></th>\n",
       "      <th></th>\n",
       "      <th></th>\n",
       "      <th></th>\n",
       "      <th></th>\n",
       "      <th></th>\n",
       "      <th></th>\n",
       "      <th></th>\n",
       "      <th></th>\n",
       "      <th></th>\n",
       "    </tr>\n",
       "  </thead>\n",
       "  <tbody>\n",
       "    <tr>\n",
       "      <th>0</th>\n",
       "      <td>228</td>\n",
       "      <td>10560</td>\n",
       "      <td>66</td>\n",
       "      <td>41</td>\n",
       "      <td>5262</td>\n",
       "      <td>608</td>\n",
       "      <td>263</td>\n",
       "      <td>7823</td>\n",
       "      <td>513</td>\n",
       "      <td>222</td>\n",
       "      <td>...</td>\n",
       "      <td>23</td>\n",
       "      <td>636</td>\n",
       "      <td>75</td>\n",
       "      <td>4447</td>\n",
       "      <td>1</td>\n",
       "      <td>1081</td>\n",
       "      <td>5946</td>\n",
       "      <td>7412</td>\n",
       "      <td>5811</td>\n",
       "      <td>1183</td>\n",
       "    </tr>\n",
       "    <tr>\n",
       "      <th>1</th>\n",
       "      <td>235</td>\n",
       "      <td>10280</td>\n",
       "      <td>76</td>\n",
       "      <td>37</td>\n",
       "      <td>5374</td>\n",
       "      <td>657</td>\n",
       "      <td>251</td>\n",
       "      <td>8474</td>\n",
       "      <td>461</td>\n",
       "      <td>156</td>\n",
       "      <td>...</td>\n",
       "      <td>23</td>\n",
       "      <td>714</td>\n",
       "      <td>66</td>\n",
       "      <td>4517</td>\n",
       "      <td>1</td>\n",
       "      <td>1114</td>\n",
       "      <td>5852</td>\n",
       "      <td>7263</td>\n",
       "      <td>6427</td>\n",
       "      <td>1176</td>\n",
       "    </tr>\n",
       "    <tr>\n",
       "      <th>2</th>\n",
       "      <td>200</td>\n",
       "      <td>10553</td>\n",
       "      <td>71</td>\n",
       "      <td>40</td>\n",
       "      <td>5457</td>\n",
       "      <td>660</td>\n",
       "      <td>221</td>\n",
       "      <td>9267</td>\n",
       "      <td>542</td>\n",
       "      <td>167</td>\n",
       "      <td>...</td>\n",
       "      <td>22</td>\n",
       "      <td>700</td>\n",
       "      <td>66</td>\n",
       "      <td>4851</td>\n",
       "      <td>0</td>\n",
       "      <td>1122</td>\n",
       "      <td>5927</td>\n",
       "      <td>7414</td>\n",
       "      <td>7029</td>\n",
       "      <td>1252</td>\n",
       "    </tr>\n",
       "    <tr>\n",
       "      <th>3</th>\n",
       "      <td>199</td>\n",
       "      <td>10246</td>\n",
       "      <td>66</td>\n",
       "      <td>39</td>\n",
       "      <td>5350</td>\n",
       "      <td>644</td>\n",
       "      <td>282</td>\n",
       "      <td>8454</td>\n",
       "      <td>496</td>\n",
       "      <td>165</td>\n",
       "      <td>...</td>\n",
       "      <td>15</td>\n",
       "      <td>679</td>\n",
       "      <td>89</td>\n",
       "      <td>4510</td>\n",
       "      <td>1</td>\n",
       "      <td>1047</td>\n",
       "      <td>5980</td>\n",
       "      <td>7456</td>\n",
       "      <td>6376</td>\n",
       "      <td>1282</td>\n",
       "    </tr>\n",
       "    <tr>\n",
       "      <th>4</th>\n",
       "      <td>220</td>\n",
       "      <td>11160</td>\n",
       "      <td>62</td>\n",
       "      <td>49</td>\n",
       "      <td>6327</td>\n",
       "      <td>541</td>\n",
       "      <td>352</td>\n",
       "      <td>7420</td>\n",
       "      <td>622</td>\n",
       "      <td>211</td>\n",
       "      <td>...</td>\n",
       "      <td>28</td>\n",
       "      <td>647</td>\n",
       "      <td>72</td>\n",
       "      <td>4924</td>\n",
       "      <td>1</td>\n",
       "      <td>1064</td>\n",
       "      <td>7092</td>\n",
       "      <td>8613</td>\n",
       "      <td>5926</td>\n",
       "      <td>1302</td>\n",
       "    </tr>\n",
       "    <tr>\n",
       "      <th>5</th>\n",
       "      <td>220</td>\n",
       "      <td>11995</td>\n",
       "      <td>45</td>\n",
       "      <td>42</td>\n",
       "      <td>4754</td>\n",
       "      <td>624</td>\n",
       "      <td>457</td>\n",
       "      <td>6390</td>\n",
       "      <td>833</td>\n",
       "      <td>137</td>\n",
       "      <td>...</td>\n",
       "      <td>21</td>\n",
       "      <td>581</td>\n",
       "      <td>73</td>\n",
       "      <td>4155</td>\n",
       "      <td>2</td>\n",
       "      <td>983</td>\n",
       "      <td>7326</td>\n",
       "      <td>8119</td>\n",
       "      <td>5364</td>\n",
       "      <td>1232</td>\n",
       "    </tr>\n",
       "    <tr>\n",
       "      <th>6</th>\n",
       "      <td>211</td>\n",
       "      <td>12082</td>\n",
       "      <td>20</td>\n",
       "      <td>41</td>\n",
       "      <td>4231</td>\n",
       "      <td>586</td>\n",
       "      <td>442</td>\n",
       "      <td>6143</td>\n",
       "      <td>813</td>\n",
       "      <td>108</td>\n",
       "      <td>...</td>\n",
       "      <td>16</td>\n",
       "      <td>583</td>\n",
       "      <td>67</td>\n",
       "      <td>4010</td>\n",
       "      <td>0</td>\n",
       "      <td>915</td>\n",
       "      <td>6602</td>\n",
       "      <td>7504</td>\n",
       "      <td>5281</td>\n",
       "      <td>1128</td>\n",
       "    </tr>\n",
       "  </tbody>\n",
       "</table>\n",
       "<p>7 rows × 39 columns</p>\n",
       "</div>"
      ],
      "text/plain": [
       "category     ARSON  ASSAULT  BAD CHECKS  BRIBERY  BURGLARY  \\\n",
       "day_of_week                                                  \n",
       "0              228    10560          66       41      5262   \n",
       "1              235    10280          76       37      5374   \n",
       "2              200    10553          71       40      5457   \n",
       "3              199    10246          66       39      5350   \n",
       "4              220    11160          62       49      6327   \n",
       "5              220    11995          45       42      4754   \n",
       "6              211    12082          20       41      4231   \n",
       "\n",
       "category     DISORDERLY CONDUCT  DRIVING UNDER THE INFLUENCE  DRUG/NARCOTIC  \\\n",
       "day_of_week                                                                   \n",
       "0                           608                          263           7823   \n",
       "1                           657                          251           8474   \n",
       "2                           660                          221           9267   \n",
       "3                           644                          282           8454   \n",
       "4                           541                          352           7420   \n",
       "5                           624                          457           6390   \n",
       "6                           586                          442           6143   \n",
       "\n",
       "category     DRUNKENNESS  EMBEZZLEMENT  ...  SEX OFFENSES NON FORCIBLE  \\\n",
       "day_of_week                             ...                              \n",
       "0                    513           222  ...                         23   \n",
       "1                    461           156  ...                         23   \n",
       "2                    542           167  ...                         22   \n",
       "3                    496           165  ...                         15   \n",
       "4                    622           211  ...                         28   \n",
       "5                    833           137  ...                         21   \n",
       "6                    813           108  ...                         16   \n",
       "\n",
       "category     STOLEN PROPERTY  SUICIDE  SUSPICIOUS OCC  TREA  TRESPASS  \\\n",
       "day_of_week                                                             \n",
       "0                        636       75            4447     1      1081   \n",
       "1                        714       66            4517     1      1114   \n",
       "2                        700       66            4851     0      1122   \n",
       "3                        679       89            4510     1      1047   \n",
       "4                        647       72            4924     1      1064   \n",
       "5                        581       73            4155     2       983   \n",
       "6                        583       67            4010     0       915   \n",
       "\n",
       "category     VANDALISM  VEHICLE THEFT  WARRANTS  WEAPON LAWS  \n",
       "day_of_week                                                   \n",
       "0                 5946           7412      5811         1183  \n",
       "1                 5852           7263      6427         1176  \n",
       "2                 5927           7414      7029         1252  \n",
       "3                 5980           7456      6376         1282  \n",
       "4                 7092           8613      5926         1302  \n",
       "5                 7326           8119      5364         1232  \n",
       "6                 6602           7504      5281         1128  \n",
       "\n",
       "[7 rows x 39 columns]"
      ]
     },
     "execution_count": 14,
     "metadata": {},
     "output_type": "execute_result"
    }
   ],
   "source": [
    "pd.crosstab(df['day_of_week'], df['category'])"
   ]
  },
  {
   "cell_type": "code",
   "execution_count": 18,
   "id": "f14f7f29",
   "metadata": {},
   "outputs": [],
   "source": [
    "#first we are taking just the first 200 descriptions\n",
    "top200 = df['descript'].value_counts().nlargest(200).index\n",
    "df['descript'] = np.where(df['descript'].isin(top200), df['descript'], 'other')"
   ]
  },
  {
   "cell_type": "code",
   "execution_count": null,
   "id": "329ee07e",
   "metadata": {},
   "outputs": [],
   "source": []
  },
  {
   "cell_type": "code",
   "execution_count": 21,
   "id": "494e7084",
   "metadata": {},
   "outputs": [
    {
     "data": {
      "text/plain": [
       "(200,)"
      ]
     },
     "execution_count": 21,
     "metadata": {},
     "output_type": "execute_result"
    }
   ],
   "source": [
    "top200.shape"
   ]
  },
  {
   "cell_type": "code",
   "execution_count": 22,
   "id": "7ef9319a",
   "metadata": {},
   "outputs": [],
   "source": [
    "x = df.drop(['category','address'], axis = 1)\n",
    "y = df['category']"
   ]
  },
  {
   "cell_type": "code",
   "execution_count": 31,
   "id": "0a5b1aea",
   "metadata": {},
   "outputs": [],
   "source": [
    "from sklearn.preprocessing import LabelEncoder\n",
    "from sklearn.preprocessing import MinMaxScaler\n",
    "from sklearn.preprocessing import StandardScaler\n",
    "from sklearn.model_selection import train_test_split"
   ]
  },
  {
   "cell_type": "code",
   "execution_count": 32,
   "id": "42f682e6",
   "metadata": {},
   "outputs": [],
   "source": [
    "#transform categorial variables to interger\n",
    "le = LabelEncoder()\n",
    "y = le.fit_transform(y)\n",
    "x['descript'] = le.fit_transform(x['descript'])\n",
    "x['pddistrict'] = le.fit_transform(x['pddistrict'])\n",
    "x['resolution'] = le.fit_transform(x['resolution'])"
   ]
  },
  {
   "cell_type": "code",
   "execution_count": 33,
   "id": "bd5a7ef9",
   "metadata": {},
   "outputs": [],
   "source": [
    "x_train, x_test, y_train, y_test = train_test_split(x, y, test_size = 0.15, random_state = 1)"
   ]
  },
  {
   "cell_type": "code",
   "execution_count": 34,
   "id": "9e1bd8b4",
   "metadata": {},
   "outputs": [],
   "source": [
    "mms = MinMaxScaler()\n",
    "x_train = mms.fit_transform(x_train)\n",
    "x_test = mms.transform(x_test)"
   ]
  },
  {
   "cell_type": "code",
   "execution_count": 35,
   "id": "0f399291",
   "metadata": {},
   "outputs": [],
   "source": [
    "sc = StandardScaler()\n",
    "x_train = sc.fit_transform(x_train)\n",
    "x_test = sc.transform(x_test)"
   ]
  },
  {
   "cell_type": "code",
   "execution_count": 38,
   "id": "24ab5d19",
   "metadata": {},
   "outputs": [],
   "source": [
    "knn = KNeighborsClassifier()\n",
    "knn.fit(x_train, y_train)\n",
    "y_pred = knn.predict(x_test)"
   ]
  },
  {
   "cell_type": "code",
   "execution_count": 39,
   "id": "3e54d500",
   "metadata": {},
   "outputs": [
    {
     "data": {
      "text/plain": [
       "0.46017705834117895"
      ]
     },
     "execution_count": 39,
     "metadata": {},
     "output_type": "execute_result"
    }
   ],
   "source": [
    "accuracy_score(y_pred, y_test)"
   ]
  },
  {
   "cell_type": "code",
   "execution_count": 40,
   "id": "ff1524c4",
   "metadata": {},
   "outputs": [],
   "source": [
    "rfc = RandomForestClassifier(random_state = 42)\n",
    "rfc.fit(x_train, y_train)\n",
    "y_pred = rfc.predict(x_test)"
   ]
  },
  {
   "cell_type": "code",
   "execution_count": 41,
   "id": "5bb4c578",
   "metadata": {},
   "outputs": [
    {
     "data": {
      "text/plain": [
       "0.9377410635648555"
      ]
     },
     "execution_count": 41,
     "metadata": {},
     "output_type": "execute_result"
    }
   ],
   "source": [
    "accuracy_score(y_pred, y_test)"
   ]
  },
  {
   "cell_type": "code",
   "execution_count": 42,
   "id": "7e87c63e",
   "metadata": {},
   "outputs": [],
   "source": [
    "dtc = DecisionTreeClassifier(random_state= 1)\n",
    "dtc.fit(x_train, y_train)\n",
    "y_pred = dtc.predict(x_test)"
   ]
  },
  {
   "cell_type": "code",
   "execution_count": 43,
   "id": "7dc5f0bb",
   "metadata": {},
   "outputs": [
    {
     "data": {
      "text/plain": [
       "0.9543915327846448"
      ]
     },
     "execution_count": 43,
     "metadata": {},
     "output_type": "execute_result"
    }
   ],
   "source": [
    "accuracy_score(y_pred, y_test)"
   ]
  },
  {
   "cell_type": "code",
   "execution_count": 44,
   "id": "369ea0f6",
   "metadata": {
    "collapsed": true
   },
   "outputs": [
    {
     "name": "stderr",
     "output_type": "stream",
     "text": [
      "C:\\ProgramData\\Anaconda\\lib\\site-packages\\xgboost\\sklearn.py:1224: UserWarning: The use of label encoder in XGBClassifier is deprecated and will be removed in a future release. To remove this warning, do the following: 1) Pass option use_label_encoder=False when constructing XGBClassifier object; and 2) Encode your labels (y) as integers starting with 0, i.e. 0, 1, 2, ..., [num_class - 1].\n",
      "  warnings.warn(label_encoder_deprecation_msg, UserWarning)\n"
     ]
    },
    {
     "name": "stdout",
     "output_type": "stream",
     "text": [
      "[22:35:21] WARNING: C:/Users/Administrator/workspace/xgboost-win64_release_1.5.1/src/learner.cc:1115: Starting in XGBoost 1.3.0, the default evaluation metric used with the objective 'multi:softprob' was changed from 'merror' to 'mlogloss'. Explicitly set eval_metric if you'd like to restore the old behavior.\n"
     ]
    }
   ],
   "source": [
    "model = XGBClassifier()\n",
    "model.fit(x_train, y_train)\n",
    "y_pred = model.predict(x_test)"
   ]
  },
  {
   "cell_type": "code",
   "execution_count": 45,
   "id": "9afb2c79",
   "metadata": {},
   "outputs": [
    {
     "data": {
      "text/plain": [
       "0.9593342849333374"
      ]
     },
     "execution_count": 45,
     "metadata": {},
     "output_type": "execute_result"
    }
   ],
   "source": [
    "accuracy_score(y_pred, y_test)"
   ]
  },
  {
   "cell_type": "code",
   "execution_count": null,
   "id": "e6d2ef88",
   "metadata": {},
   "outputs": [],
   "source": []
  }
 ],
 "metadata": {
  "kernelspec": {
   "display_name": "Python 3 (ipykernel)",
   "language": "python",
   "name": "python3"
  },
  "language_info": {
   "codemirror_mode": {
    "name": "ipython",
    "version": 3
   },
   "file_extension": ".py",
   "mimetype": "text/x-python",
   "name": "python",
   "nbconvert_exporter": "python",
   "pygments_lexer": "ipython3",
   "version": "3.9.7"
  }
 },
 "nbformat": 4,
 "nbformat_minor": 5
}
